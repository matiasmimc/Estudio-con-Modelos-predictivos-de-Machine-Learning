{
  "cells": [
    {
      "cell_type": "markdown",
      "metadata": {
        "id": "view-in-github",
        "colab_type": "text"
      },
      "source": [
        "<a href=\"https://colab.research.google.com/github/matiasmimc/Estudio-con-Modelos-predictivos-de-Machine-Learning/blob/main/Alcohol_y_calificaci%C3%B3n_en_matem%C3%A1ticas.ipynb\" target=\"_parent\"><img src=\"https://colab.research.google.com/assets/colab-badge.svg\" alt=\"Open In Colab\"/></a>"
      ]
    },
    {
      "cell_type": "code",
      "execution_count": null,
      "metadata": {
        "id": "67a3ec59-c2b5-4982-9629-54f0242ca995"
      },
      "outputs": [],
      "source": [
        "import pandas as pd\n",
        "import numpy as np\n",
        "import matplotlib.pyplot as plt"
      ],
      "id": "67a3ec59-c2b5-4982-9629-54f0242ca995"
    },
    {
      "cell_type": "code",
      "execution_count": null,
      "metadata": {
        "id": "2HbWlc5NYXI8"
      },
      "outputs": [],
      "source": [
        "#from google.colab import drive\n",
        "#drive.mount('/content/drive')\n",
        "#df =pd.read_csv(\"/content/drive/MyDrive/Grupo 6 módulo/student-mat.csv\")\n",
        "#data = df"
      ],
      "id": "2HbWlc5NYXI8"
    },
    {
      "cell_type": "markdown",
      "source": [
        "subir student-mat.csv a archivos"
      ],
      "metadata": {
        "id": "19JCzZovfm22"
      },
      "id": "19JCzZovfm22"
    },
    {
      "cell_type": "code",
      "source": [
        "ruta = ('/content/student-mat.csv')\n",
        "df = pd.read_csv(ruta)"
      ],
      "metadata": {
        "id": "ext7G-ZEe2TT"
      },
      "id": "ext7G-ZEe2TT",
      "execution_count": null,
      "outputs": []
    },
    {
      "cell_type": "code",
      "execution_count": null,
      "metadata": {
        "id": "302b620b",
        "colab": {
          "base_uri": "https://localhost:8080/",
          "height": 423
        },
        "outputId": "72c70de4-5859-47f9-d697-f8ac1e30f4c7"
      },
      "outputs": [
        {
          "output_type": "execute_result",
          "data": {
            "text/plain": [
              "    school sex  age address famsize Pstatus  Medu  Fedu      Mjob      Fjob  \\\n",
              "0       GP   F   18       U     GT3       A     4     4   at_home   teacher   \n",
              "1       GP   F   17       U     GT3       T     1     1   at_home     other   \n",
              "2       GP   F   15       U     LE3       T     1     1   at_home     other   \n",
              "3       GP   F   15       U     GT3       T     4     2    health  services   \n",
              "4       GP   F   16       U     GT3       T     3     3     other     other   \n",
              "..     ...  ..  ...     ...     ...     ...   ...   ...       ...       ...   \n",
              "390     MS   M   20       U     LE3       A     2     2  services  services   \n",
              "391     MS   M   17       U     LE3       T     3     1  services  services   \n",
              "392     MS   M   21       R     GT3       T     1     1     other     other   \n",
              "393     MS   M   18       R     LE3       T     3     2  services     other   \n",
              "394     MS   M   19       U     LE3       T     1     1     other   at_home   \n",
              "\n",
              "     ... famrel freetime  goout  Dalc  Walc health absences  G1  G2  G3  \n",
              "0    ...      4        3      4     1     1      3        6   5   6   6  \n",
              "1    ...      5        3      3     1     1      3        4   5   5   6  \n",
              "2    ...      4        3      2     2     3      3       10   7   8  10  \n",
              "3    ...      3        2      2     1     1      5        2  15  14  15  \n",
              "4    ...      4        3      2     1     2      5        4   6  10  10  \n",
              "..   ...    ...      ...    ...   ...   ...    ...      ...  ..  ..  ..  \n",
              "390  ...      5        5      4     4     5      4       11   9   9   9  \n",
              "391  ...      2        4      5     3     4      2        3  14  16  16  \n",
              "392  ...      5        5      3     3     3      3        3  10   8   7  \n",
              "393  ...      4        4      1     3     4      5        0  11  12  10  \n",
              "394  ...      3        2      3     3     3      5        5   8   9   9  \n",
              "\n",
              "[395 rows x 33 columns]"
            ],
            "text/html": [
              "\n",
              "  <div id=\"df-1e090b34-1eed-4401-acd3-1501b83157b6\">\n",
              "    <div class=\"colab-df-container\">\n",
              "      <div>\n",
              "<style scoped>\n",
              "    .dataframe tbody tr th:only-of-type {\n",
              "        vertical-align: middle;\n",
              "    }\n",
              "\n",
              "    .dataframe tbody tr th {\n",
              "        vertical-align: top;\n",
              "    }\n",
              "\n",
              "    .dataframe thead th {\n",
              "        text-align: right;\n",
              "    }\n",
              "</style>\n",
              "<table border=\"1\" class=\"dataframe\">\n",
              "  <thead>\n",
              "    <tr style=\"text-align: right;\">\n",
              "      <th></th>\n",
              "      <th>school</th>\n",
              "      <th>sex</th>\n",
              "      <th>age</th>\n",
              "      <th>address</th>\n",
              "      <th>famsize</th>\n",
              "      <th>Pstatus</th>\n",
              "      <th>Medu</th>\n",
              "      <th>Fedu</th>\n",
              "      <th>Mjob</th>\n",
              "      <th>Fjob</th>\n",
              "      <th>...</th>\n",
              "      <th>famrel</th>\n",
              "      <th>freetime</th>\n",
              "      <th>goout</th>\n",
              "      <th>Dalc</th>\n",
              "      <th>Walc</th>\n",
              "      <th>health</th>\n",
              "      <th>absences</th>\n",
              "      <th>G1</th>\n",
              "      <th>G2</th>\n",
              "      <th>G3</th>\n",
              "    </tr>\n",
              "  </thead>\n",
              "  <tbody>\n",
              "    <tr>\n",
              "      <th>0</th>\n",
              "      <td>GP</td>\n",
              "      <td>F</td>\n",
              "      <td>18</td>\n",
              "      <td>U</td>\n",
              "      <td>GT3</td>\n",
              "      <td>A</td>\n",
              "      <td>4</td>\n",
              "      <td>4</td>\n",
              "      <td>at_home</td>\n",
              "      <td>teacher</td>\n",
              "      <td>...</td>\n",
              "      <td>4</td>\n",
              "      <td>3</td>\n",
              "      <td>4</td>\n",
              "      <td>1</td>\n",
              "      <td>1</td>\n",
              "      <td>3</td>\n",
              "      <td>6</td>\n",
              "      <td>5</td>\n",
              "      <td>6</td>\n",
              "      <td>6</td>\n",
              "    </tr>\n",
              "    <tr>\n",
              "      <th>1</th>\n",
              "      <td>GP</td>\n",
              "      <td>F</td>\n",
              "      <td>17</td>\n",
              "      <td>U</td>\n",
              "      <td>GT3</td>\n",
              "      <td>T</td>\n",
              "      <td>1</td>\n",
              "      <td>1</td>\n",
              "      <td>at_home</td>\n",
              "      <td>other</td>\n",
              "      <td>...</td>\n",
              "      <td>5</td>\n",
              "      <td>3</td>\n",
              "      <td>3</td>\n",
              "      <td>1</td>\n",
              "      <td>1</td>\n",
              "      <td>3</td>\n",
              "      <td>4</td>\n",
              "      <td>5</td>\n",
              "      <td>5</td>\n",
              "      <td>6</td>\n",
              "    </tr>\n",
              "    <tr>\n",
              "      <th>2</th>\n",
              "      <td>GP</td>\n",
              "      <td>F</td>\n",
              "      <td>15</td>\n",
              "      <td>U</td>\n",
              "      <td>LE3</td>\n",
              "      <td>T</td>\n",
              "      <td>1</td>\n",
              "      <td>1</td>\n",
              "      <td>at_home</td>\n",
              "      <td>other</td>\n",
              "      <td>...</td>\n",
              "      <td>4</td>\n",
              "      <td>3</td>\n",
              "      <td>2</td>\n",
              "      <td>2</td>\n",
              "      <td>3</td>\n",
              "      <td>3</td>\n",
              "      <td>10</td>\n",
              "      <td>7</td>\n",
              "      <td>8</td>\n",
              "      <td>10</td>\n",
              "    </tr>\n",
              "    <tr>\n",
              "      <th>3</th>\n",
              "      <td>GP</td>\n",
              "      <td>F</td>\n",
              "      <td>15</td>\n",
              "      <td>U</td>\n",
              "      <td>GT3</td>\n",
              "      <td>T</td>\n",
              "      <td>4</td>\n",
              "      <td>2</td>\n",
              "      <td>health</td>\n",
              "      <td>services</td>\n",
              "      <td>...</td>\n",
              "      <td>3</td>\n",
              "      <td>2</td>\n",
              "      <td>2</td>\n",
              "      <td>1</td>\n",
              "      <td>1</td>\n",
              "      <td>5</td>\n",
              "      <td>2</td>\n",
              "      <td>15</td>\n",
              "      <td>14</td>\n",
              "      <td>15</td>\n",
              "    </tr>\n",
              "    <tr>\n",
              "      <th>4</th>\n",
              "      <td>GP</td>\n",
              "      <td>F</td>\n",
              "      <td>16</td>\n",
              "      <td>U</td>\n",
              "      <td>GT3</td>\n",
              "      <td>T</td>\n",
              "      <td>3</td>\n",
              "      <td>3</td>\n",
              "      <td>other</td>\n",
              "      <td>other</td>\n",
              "      <td>...</td>\n",
              "      <td>4</td>\n",
              "      <td>3</td>\n",
              "      <td>2</td>\n",
              "      <td>1</td>\n",
              "      <td>2</td>\n",
              "      <td>5</td>\n",
              "      <td>4</td>\n",
              "      <td>6</td>\n",
              "      <td>10</td>\n",
              "      <td>10</td>\n",
              "    </tr>\n",
              "    <tr>\n",
              "      <th>...</th>\n",
              "      <td>...</td>\n",
              "      <td>...</td>\n",
              "      <td>...</td>\n",
              "      <td>...</td>\n",
              "      <td>...</td>\n",
              "      <td>...</td>\n",
              "      <td>...</td>\n",
              "      <td>...</td>\n",
              "      <td>...</td>\n",
              "      <td>...</td>\n",
              "      <td>...</td>\n",
              "      <td>...</td>\n",
              "      <td>...</td>\n",
              "      <td>...</td>\n",
              "      <td>...</td>\n",
              "      <td>...</td>\n",
              "      <td>...</td>\n",
              "      <td>...</td>\n",
              "      <td>...</td>\n",
              "      <td>...</td>\n",
              "      <td>...</td>\n",
              "    </tr>\n",
              "    <tr>\n",
              "      <th>390</th>\n",
              "      <td>MS</td>\n",
              "      <td>M</td>\n",
              "      <td>20</td>\n",
              "      <td>U</td>\n",
              "      <td>LE3</td>\n",
              "      <td>A</td>\n",
              "      <td>2</td>\n",
              "      <td>2</td>\n",
              "      <td>services</td>\n",
              "      <td>services</td>\n",
              "      <td>...</td>\n",
              "      <td>5</td>\n",
              "      <td>5</td>\n",
              "      <td>4</td>\n",
              "      <td>4</td>\n",
              "      <td>5</td>\n",
              "      <td>4</td>\n",
              "      <td>11</td>\n",
              "      <td>9</td>\n",
              "      <td>9</td>\n",
              "      <td>9</td>\n",
              "    </tr>\n",
              "    <tr>\n",
              "      <th>391</th>\n",
              "      <td>MS</td>\n",
              "      <td>M</td>\n",
              "      <td>17</td>\n",
              "      <td>U</td>\n",
              "      <td>LE3</td>\n",
              "      <td>T</td>\n",
              "      <td>3</td>\n",
              "      <td>1</td>\n",
              "      <td>services</td>\n",
              "      <td>services</td>\n",
              "      <td>...</td>\n",
              "      <td>2</td>\n",
              "      <td>4</td>\n",
              "      <td>5</td>\n",
              "      <td>3</td>\n",
              "      <td>4</td>\n",
              "      <td>2</td>\n",
              "      <td>3</td>\n",
              "      <td>14</td>\n",
              "      <td>16</td>\n",
              "      <td>16</td>\n",
              "    </tr>\n",
              "    <tr>\n",
              "      <th>392</th>\n",
              "      <td>MS</td>\n",
              "      <td>M</td>\n",
              "      <td>21</td>\n",
              "      <td>R</td>\n",
              "      <td>GT3</td>\n",
              "      <td>T</td>\n",
              "      <td>1</td>\n",
              "      <td>1</td>\n",
              "      <td>other</td>\n",
              "      <td>other</td>\n",
              "      <td>...</td>\n",
              "      <td>5</td>\n",
              "      <td>5</td>\n",
              "      <td>3</td>\n",
              "      <td>3</td>\n",
              "      <td>3</td>\n",
              "      <td>3</td>\n",
              "      <td>3</td>\n",
              "      <td>10</td>\n",
              "      <td>8</td>\n",
              "      <td>7</td>\n",
              "    </tr>\n",
              "    <tr>\n",
              "      <th>393</th>\n",
              "      <td>MS</td>\n",
              "      <td>M</td>\n",
              "      <td>18</td>\n",
              "      <td>R</td>\n",
              "      <td>LE3</td>\n",
              "      <td>T</td>\n",
              "      <td>3</td>\n",
              "      <td>2</td>\n",
              "      <td>services</td>\n",
              "      <td>other</td>\n",
              "      <td>...</td>\n",
              "      <td>4</td>\n",
              "      <td>4</td>\n",
              "      <td>1</td>\n",
              "      <td>3</td>\n",
              "      <td>4</td>\n",
              "      <td>5</td>\n",
              "      <td>0</td>\n",
              "      <td>11</td>\n",
              "      <td>12</td>\n",
              "      <td>10</td>\n",
              "    </tr>\n",
              "    <tr>\n",
              "      <th>394</th>\n",
              "      <td>MS</td>\n",
              "      <td>M</td>\n",
              "      <td>19</td>\n",
              "      <td>U</td>\n",
              "      <td>LE3</td>\n",
              "      <td>T</td>\n",
              "      <td>1</td>\n",
              "      <td>1</td>\n",
              "      <td>other</td>\n",
              "      <td>at_home</td>\n",
              "      <td>...</td>\n",
              "      <td>3</td>\n",
              "      <td>2</td>\n",
              "      <td>3</td>\n",
              "      <td>3</td>\n",
              "      <td>3</td>\n",
              "      <td>5</td>\n",
              "      <td>5</td>\n",
              "      <td>8</td>\n",
              "      <td>9</td>\n",
              "      <td>9</td>\n",
              "    </tr>\n",
              "  </tbody>\n",
              "</table>\n",
              "<p>395 rows × 33 columns</p>\n",
              "</div>\n",
              "      <button class=\"colab-df-convert\" onclick=\"convertToInteractive('df-1e090b34-1eed-4401-acd3-1501b83157b6')\"\n",
              "              title=\"Convert this dataframe to an interactive table.\"\n",
              "              style=\"display:none;\">\n",
              "        \n",
              "  <svg xmlns=\"http://www.w3.org/2000/svg\" height=\"24px\"viewBox=\"0 0 24 24\"\n",
              "       width=\"24px\">\n",
              "    <path d=\"M0 0h24v24H0V0z\" fill=\"none\"/>\n",
              "    <path d=\"M18.56 5.44l.94 2.06.94-2.06 2.06-.94-2.06-.94-.94-2.06-.94 2.06-2.06.94zm-11 1L8.5 8.5l.94-2.06 2.06-.94-2.06-.94L8.5 2.5l-.94 2.06-2.06.94zm10 10l.94 2.06.94-2.06 2.06-.94-2.06-.94-.94-2.06-.94 2.06-2.06.94z\"/><path d=\"M17.41 7.96l-1.37-1.37c-.4-.4-.92-.59-1.43-.59-.52 0-1.04.2-1.43.59L10.3 9.45l-7.72 7.72c-.78.78-.78 2.05 0 2.83L4 21.41c.39.39.9.59 1.41.59.51 0 1.02-.2 1.41-.59l7.78-7.78 2.81-2.81c.8-.78.8-2.07 0-2.86zM5.41 20L4 18.59l7.72-7.72 1.47 1.35L5.41 20z\"/>\n",
              "  </svg>\n",
              "      </button>\n",
              "      \n",
              "  <style>\n",
              "    .colab-df-container {\n",
              "      display:flex;\n",
              "      flex-wrap:wrap;\n",
              "      gap: 12px;\n",
              "    }\n",
              "\n",
              "    .colab-df-convert {\n",
              "      background-color: #E8F0FE;\n",
              "      border: none;\n",
              "      border-radius: 50%;\n",
              "      cursor: pointer;\n",
              "      display: none;\n",
              "      fill: #1967D2;\n",
              "      height: 32px;\n",
              "      padding: 0 0 0 0;\n",
              "      width: 32px;\n",
              "    }\n",
              "\n",
              "    .colab-df-convert:hover {\n",
              "      background-color: #E2EBFA;\n",
              "      box-shadow: 0px 1px 2px rgba(60, 64, 67, 0.3), 0px 1px 3px 1px rgba(60, 64, 67, 0.15);\n",
              "      fill: #174EA6;\n",
              "    }\n",
              "\n",
              "    [theme=dark] .colab-df-convert {\n",
              "      background-color: #3B4455;\n",
              "      fill: #D2E3FC;\n",
              "    }\n",
              "\n",
              "    [theme=dark] .colab-df-convert:hover {\n",
              "      background-color: #434B5C;\n",
              "      box-shadow: 0px 1px 3px 1px rgba(0, 0, 0, 0.15);\n",
              "      filter: drop-shadow(0px 1px 2px rgba(0, 0, 0, 0.3));\n",
              "      fill: #FFFFFF;\n",
              "    }\n",
              "  </style>\n",
              "\n",
              "      <script>\n",
              "        const buttonEl =\n",
              "          document.querySelector('#df-1e090b34-1eed-4401-acd3-1501b83157b6 button.colab-df-convert');\n",
              "        buttonEl.style.display =\n",
              "          google.colab.kernel.accessAllowed ? 'block' : 'none';\n",
              "\n",
              "        async function convertToInteractive(key) {\n",
              "          const element = document.querySelector('#df-1e090b34-1eed-4401-acd3-1501b83157b6');\n",
              "          const dataTable =\n",
              "            await google.colab.kernel.invokeFunction('convertToInteractive',\n",
              "                                                     [key], {});\n",
              "          if (!dataTable) return;\n",
              "\n",
              "          const docLinkHtml = 'Like what you see? Visit the ' +\n",
              "            '<a target=\"_blank\" href=https://colab.research.google.com/notebooks/data_table.ipynb>data table notebook</a>'\n",
              "            + ' to learn more about interactive tables.';\n",
              "          element.innerHTML = '';\n",
              "          dataTable['output_type'] = 'display_data';\n",
              "          await google.colab.output.renderOutput(dataTable, element);\n",
              "          const docLink = document.createElement('div');\n",
              "          docLink.innerHTML = docLinkHtml;\n",
              "          element.appendChild(docLink);\n",
              "        }\n",
              "      </script>\n",
              "    </div>\n",
              "  </div>\n",
              "  "
            ]
          },
          "metadata": {},
          "execution_count": 248
        }
      ],
      "source": [
        "df"
      ],
      "id": "302b620b"
    },
    {
      "cell_type": "code",
      "execution_count": null,
      "metadata": {
        "id": "7aef88e6",
        "colab": {
          "base_uri": "https://localhost:8080/",
          "height": 235
        },
        "outputId": "797a3e21-5742-4986-9f4f-d79523f05f63"
      },
      "outputs": [
        {
          "output_type": "execute_result",
          "data": {
            "text/plain": [
              "  Escuela Sexo  Edad Zona Familia E° padres  Ed. M  Ed. P Trabajo M Trabajo P  \\\n",
              "0      GP    F    18    U     GT3         A      4      4   at_home   teacher   \n",
              "1      GP    F    17    U     GT3         T      1      1   at_home     other   \n",
              "2      GP    F    15    U     LE3         T      1      1   at_home     other   \n",
              "3      GP    F    15    U     GT3         T      4      2    health  services   \n",
              "4      GP    F    16    U     GT3         T      3      3     other     other   \n",
              "\n",
              "   ... relación fam t libre  t fuera  Alc s  Alc fds Salud Ausencias  N1  N2  \\\n",
              "0  ...            4       3        4      1        1     3         6   5   6   \n",
              "1  ...            5       3        3      1        1     3         4   5   5   \n",
              "2  ...            4       3        2      2        3     3        10   7   8   \n",
              "3  ...            3       2        2      1        1     5         2  15  14   \n",
              "4  ...            4       3        2      1        2     5         4   6  10   \n",
              "\n",
              "   NF  \n",
              "0   6  \n",
              "1   6  \n",
              "2  10  \n",
              "3  15  \n",
              "4  10  \n",
              "\n",
              "[5 rows x 33 columns]"
            ],
            "text/html": [
              "\n",
              "  <div id=\"df-63e6ca50-0b1f-4cb9-96d7-0ee60ac81913\">\n",
              "    <div class=\"colab-df-container\">\n",
              "      <div>\n",
              "<style scoped>\n",
              "    .dataframe tbody tr th:only-of-type {\n",
              "        vertical-align: middle;\n",
              "    }\n",
              "\n",
              "    .dataframe tbody tr th {\n",
              "        vertical-align: top;\n",
              "    }\n",
              "\n",
              "    .dataframe thead th {\n",
              "        text-align: right;\n",
              "    }\n",
              "</style>\n",
              "<table border=\"1\" class=\"dataframe\">\n",
              "  <thead>\n",
              "    <tr style=\"text-align: right;\">\n",
              "      <th></th>\n",
              "      <th>Escuela</th>\n",
              "      <th>Sexo</th>\n",
              "      <th>Edad</th>\n",
              "      <th>Zona</th>\n",
              "      <th>Familia</th>\n",
              "      <th>E° padres</th>\n",
              "      <th>Ed. M</th>\n",
              "      <th>Ed. P</th>\n",
              "      <th>Trabajo M</th>\n",
              "      <th>Trabajo P</th>\n",
              "      <th>...</th>\n",
              "      <th>relación fam</th>\n",
              "      <th>t libre</th>\n",
              "      <th>t fuera</th>\n",
              "      <th>Alc s</th>\n",
              "      <th>Alc fds</th>\n",
              "      <th>Salud</th>\n",
              "      <th>Ausencias</th>\n",
              "      <th>N1</th>\n",
              "      <th>N2</th>\n",
              "      <th>NF</th>\n",
              "    </tr>\n",
              "  </thead>\n",
              "  <tbody>\n",
              "    <tr>\n",
              "      <th>0</th>\n",
              "      <td>GP</td>\n",
              "      <td>F</td>\n",
              "      <td>18</td>\n",
              "      <td>U</td>\n",
              "      <td>GT3</td>\n",
              "      <td>A</td>\n",
              "      <td>4</td>\n",
              "      <td>4</td>\n",
              "      <td>at_home</td>\n",
              "      <td>teacher</td>\n",
              "      <td>...</td>\n",
              "      <td>4</td>\n",
              "      <td>3</td>\n",
              "      <td>4</td>\n",
              "      <td>1</td>\n",
              "      <td>1</td>\n",
              "      <td>3</td>\n",
              "      <td>6</td>\n",
              "      <td>5</td>\n",
              "      <td>6</td>\n",
              "      <td>6</td>\n",
              "    </tr>\n",
              "    <tr>\n",
              "      <th>1</th>\n",
              "      <td>GP</td>\n",
              "      <td>F</td>\n",
              "      <td>17</td>\n",
              "      <td>U</td>\n",
              "      <td>GT3</td>\n",
              "      <td>T</td>\n",
              "      <td>1</td>\n",
              "      <td>1</td>\n",
              "      <td>at_home</td>\n",
              "      <td>other</td>\n",
              "      <td>...</td>\n",
              "      <td>5</td>\n",
              "      <td>3</td>\n",
              "      <td>3</td>\n",
              "      <td>1</td>\n",
              "      <td>1</td>\n",
              "      <td>3</td>\n",
              "      <td>4</td>\n",
              "      <td>5</td>\n",
              "      <td>5</td>\n",
              "      <td>6</td>\n",
              "    </tr>\n",
              "    <tr>\n",
              "      <th>2</th>\n",
              "      <td>GP</td>\n",
              "      <td>F</td>\n",
              "      <td>15</td>\n",
              "      <td>U</td>\n",
              "      <td>LE3</td>\n",
              "      <td>T</td>\n",
              "      <td>1</td>\n",
              "      <td>1</td>\n",
              "      <td>at_home</td>\n",
              "      <td>other</td>\n",
              "      <td>...</td>\n",
              "      <td>4</td>\n",
              "      <td>3</td>\n",
              "      <td>2</td>\n",
              "      <td>2</td>\n",
              "      <td>3</td>\n",
              "      <td>3</td>\n",
              "      <td>10</td>\n",
              "      <td>7</td>\n",
              "      <td>8</td>\n",
              "      <td>10</td>\n",
              "    </tr>\n",
              "    <tr>\n",
              "      <th>3</th>\n",
              "      <td>GP</td>\n",
              "      <td>F</td>\n",
              "      <td>15</td>\n",
              "      <td>U</td>\n",
              "      <td>GT3</td>\n",
              "      <td>T</td>\n",
              "      <td>4</td>\n",
              "      <td>2</td>\n",
              "      <td>health</td>\n",
              "      <td>services</td>\n",
              "      <td>...</td>\n",
              "      <td>3</td>\n",
              "      <td>2</td>\n",
              "      <td>2</td>\n",
              "      <td>1</td>\n",
              "      <td>1</td>\n",
              "      <td>5</td>\n",
              "      <td>2</td>\n",
              "      <td>15</td>\n",
              "      <td>14</td>\n",
              "      <td>15</td>\n",
              "    </tr>\n",
              "    <tr>\n",
              "      <th>4</th>\n",
              "      <td>GP</td>\n",
              "      <td>F</td>\n",
              "      <td>16</td>\n",
              "      <td>U</td>\n",
              "      <td>GT3</td>\n",
              "      <td>T</td>\n",
              "      <td>3</td>\n",
              "      <td>3</td>\n",
              "      <td>other</td>\n",
              "      <td>other</td>\n",
              "      <td>...</td>\n",
              "      <td>4</td>\n",
              "      <td>3</td>\n",
              "      <td>2</td>\n",
              "      <td>1</td>\n",
              "      <td>2</td>\n",
              "      <td>5</td>\n",
              "      <td>4</td>\n",
              "      <td>6</td>\n",
              "      <td>10</td>\n",
              "      <td>10</td>\n",
              "    </tr>\n",
              "  </tbody>\n",
              "</table>\n",
              "<p>5 rows × 33 columns</p>\n",
              "</div>\n",
              "      <button class=\"colab-df-convert\" onclick=\"convertToInteractive('df-63e6ca50-0b1f-4cb9-96d7-0ee60ac81913')\"\n",
              "              title=\"Convert this dataframe to an interactive table.\"\n",
              "              style=\"display:none;\">\n",
              "        \n",
              "  <svg xmlns=\"http://www.w3.org/2000/svg\" height=\"24px\"viewBox=\"0 0 24 24\"\n",
              "       width=\"24px\">\n",
              "    <path d=\"M0 0h24v24H0V0z\" fill=\"none\"/>\n",
              "    <path d=\"M18.56 5.44l.94 2.06.94-2.06 2.06-.94-2.06-.94-.94-2.06-.94 2.06-2.06.94zm-11 1L8.5 8.5l.94-2.06 2.06-.94-2.06-.94L8.5 2.5l-.94 2.06-2.06.94zm10 10l.94 2.06.94-2.06 2.06-.94-2.06-.94-.94-2.06-.94 2.06-2.06.94z\"/><path d=\"M17.41 7.96l-1.37-1.37c-.4-.4-.92-.59-1.43-.59-.52 0-1.04.2-1.43.59L10.3 9.45l-7.72 7.72c-.78.78-.78 2.05 0 2.83L4 21.41c.39.39.9.59 1.41.59.51 0 1.02-.2 1.41-.59l7.78-7.78 2.81-2.81c.8-.78.8-2.07 0-2.86zM5.41 20L4 18.59l7.72-7.72 1.47 1.35L5.41 20z\"/>\n",
              "  </svg>\n",
              "      </button>\n",
              "      \n",
              "  <style>\n",
              "    .colab-df-container {\n",
              "      display:flex;\n",
              "      flex-wrap:wrap;\n",
              "      gap: 12px;\n",
              "    }\n",
              "\n",
              "    .colab-df-convert {\n",
              "      background-color: #E8F0FE;\n",
              "      border: none;\n",
              "      border-radius: 50%;\n",
              "      cursor: pointer;\n",
              "      display: none;\n",
              "      fill: #1967D2;\n",
              "      height: 32px;\n",
              "      padding: 0 0 0 0;\n",
              "      width: 32px;\n",
              "    }\n",
              "\n",
              "    .colab-df-convert:hover {\n",
              "      background-color: #E2EBFA;\n",
              "      box-shadow: 0px 1px 2px rgba(60, 64, 67, 0.3), 0px 1px 3px 1px rgba(60, 64, 67, 0.15);\n",
              "      fill: #174EA6;\n",
              "    }\n",
              "\n",
              "    [theme=dark] .colab-df-convert {\n",
              "      background-color: #3B4455;\n",
              "      fill: #D2E3FC;\n",
              "    }\n",
              "\n",
              "    [theme=dark] .colab-df-convert:hover {\n",
              "      background-color: #434B5C;\n",
              "      box-shadow: 0px 1px 3px 1px rgba(0, 0, 0, 0.15);\n",
              "      filter: drop-shadow(0px 1px 2px rgba(0, 0, 0, 0.3));\n",
              "      fill: #FFFFFF;\n",
              "    }\n",
              "  </style>\n",
              "\n",
              "      <script>\n",
              "        const buttonEl =\n",
              "          document.querySelector('#df-63e6ca50-0b1f-4cb9-96d7-0ee60ac81913 button.colab-df-convert');\n",
              "        buttonEl.style.display =\n",
              "          google.colab.kernel.accessAllowed ? 'block' : 'none';\n",
              "\n",
              "        async function convertToInteractive(key) {\n",
              "          const element = document.querySelector('#df-63e6ca50-0b1f-4cb9-96d7-0ee60ac81913');\n",
              "          const dataTable =\n",
              "            await google.colab.kernel.invokeFunction('convertToInteractive',\n",
              "                                                     [key], {});\n",
              "          if (!dataTable) return;\n",
              "\n",
              "          const docLinkHtml = 'Like what you see? Visit the ' +\n",
              "            '<a target=\"_blank\" href=https://colab.research.google.com/notebooks/data_table.ipynb>data table notebook</a>'\n",
              "            + ' to learn more about interactive tables.';\n",
              "          element.innerHTML = '';\n",
              "          dataTable['output_type'] = 'display_data';\n",
              "          await google.colab.output.renderOutput(dataTable, element);\n",
              "          const docLink = document.createElement('div');\n",
              "          docLink.innerHTML = docLinkHtml;\n",
              "          element.appendChild(docLink);\n",
              "        }\n",
              "      </script>\n",
              "    </div>\n",
              "  </div>\n",
              "  "
            ]
          },
          "metadata": {},
          "execution_count": 249
        }
      ],
      "source": [
        "cabecera = [\"Escuela\", \"Sexo\", \"Edad\", \"Zona\", \"Familia\", \"E° padres\", \"Ed. M\", \"Ed. P\", \"Trabajo M\", \"Trabajo P\", \"Razón\", \"Tutela\", \"t de viaje\", \"t de estudio\", \"Repruebos\", \"Schoolsup\", \"Ed. en casa\", \"Clases part.\", \"Actividades\", \"Guardería\", \"ed. sup\", \"internet\", \"relación\", \"relación fam\", \"t libre\", \"t fuera\", \"Alc s\", \"Alc fds\", \"Salud\", \"Ausencias\", \"N1\", \"N2\", \"NF\"]\n",
        "df.columns = cabecera\n",
        "df.head()"
      ],
      "id": "7aef88e6"
    },
    {
      "cell_type": "code",
      "execution_count": null,
      "metadata": {
        "id": "fUfIfHMengFw",
        "colab": {
          "base_uri": "https://localhost:8080/",
          "height": 173
        },
        "outputId": "53e28e7e-cc5e-41f8-c428-f738f4fa5018"
      },
      "outputs": [
        {
          "output_type": "execute_result",
          "data": {
            "text/plain": [
              "    Escuela Sexo  Edad Zona Familia E° padres  Ed. M  Ed. P Trabajo M  \\\n",
              "151      GP    M    16    U     LE3         T      2      1   at_home   \n",
              "198      GP    F    17    U     GT3         T      4      4  services   \n",
              "376      MS    F    20    U     GT3         T      4      2    health   \n",
              "\n",
              "    Trabajo P  ... relación fam t libre  t fuera  Alc s  Alc fds Salud  \\\n",
              "151     other  ...            4       4        4      3        5     5   \n",
              "198   teacher  ...            4       2        4      2        3     2   \n",
              "376     other  ...            5       4        3      1        1     3   \n",
              "\n",
              "    Ausencias  N1  N2  NF  \n",
              "151         6  12  13  14  \n",
              "198        24  18  18  18  \n",
              "376         4  15  14  15  \n",
              "\n",
              "[3 rows x 33 columns]"
            ],
            "text/html": [
              "\n",
              "  <div id=\"df-f89dd9ef-85aa-4d14-ad00-72c2003a45ed\">\n",
              "    <div class=\"colab-df-container\">\n",
              "      <div>\n",
              "<style scoped>\n",
              "    .dataframe tbody tr th:only-of-type {\n",
              "        vertical-align: middle;\n",
              "    }\n",
              "\n",
              "    .dataframe tbody tr th {\n",
              "        vertical-align: top;\n",
              "    }\n",
              "\n",
              "    .dataframe thead th {\n",
              "        text-align: right;\n",
              "    }\n",
              "</style>\n",
              "<table border=\"1\" class=\"dataframe\">\n",
              "  <thead>\n",
              "    <tr style=\"text-align: right;\">\n",
              "      <th></th>\n",
              "      <th>Escuela</th>\n",
              "      <th>Sexo</th>\n",
              "      <th>Edad</th>\n",
              "      <th>Zona</th>\n",
              "      <th>Familia</th>\n",
              "      <th>E° padres</th>\n",
              "      <th>Ed. M</th>\n",
              "      <th>Ed. P</th>\n",
              "      <th>Trabajo M</th>\n",
              "      <th>Trabajo P</th>\n",
              "      <th>...</th>\n",
              "      <th>relación fam</th>\n",
              "      <th>t libre</th>\n",
              "      <th>t fuera</th>\n",
              "      <th>Alc s</th>\n",
              "      <th>Alc fds</th>\n",
              "      <th>Salud</th>\n",
              "      <th>Ausencias</th>\n",
              "      <th>N1</th>\n",
              "      <th>N2</th>\n",
              "      <th>NF</th>\n",
              "    </tr>\n",
              "  </thead>\n",
              "  <tbody>\n",
              "    <tr>\n",
              "      <th>151</th>\n",
              "      <td>GP</td>\n",
              "      <td>M</td>\n",
              "      <td>16</td>\n",
              "      <td>U</td>\n",
              "      <td>LE3</td>\n",
              "      <td>T</td>\n",
              "      <td>2</td>\n",
              "      <td>1</td>\n",
              "      <td>at_home</td>\n",
              "      <td>other</td>\n",
              "      <td>...</td>\n",
              "      <td>4</td>\n",
              "      <td>4</td>\n",
              "      <td>4</td>\n",
              "      <td>3</td>\n",
              "      <td>5</td>\n",
              "      <td>5</td>\n",
              "      <td>6</td>\n",
              "      <td>12</td>\n",
              "      <td>13</td>\n",
              "      <td>14</td>\n",
              "    </tr>\n",
              "    <tr>\n",
              "      <th>198</th>\n",
              "      <td>GP</td>\n",
              "      <td>F</td>\n",
              "      <td>17</td>\n",
              "      <td>U</td>\n",
              "      <td>GT3</td>\n",
              "      <td>T</td>\n",
              "      <td>4</td>\n",
              "      <td>4</td>\n",
              "      <td>services</td>\n",
              "      <td>teacher</td>\n",
              "      <td>...</td>\n",
              "      <td>4</td>\n",
              "      <td>2</td>\n",
              "      <td>4</td>\n",
              "      <td>2</td>\n",
              "      <td>3</td>\n",
              "      <td>2</td>\n",
              "      <td>24</td>\n",
              "      <td>18</td>\n",
              "      <td>18</td>\n",
              "      <td>18</td>\n",
              "    </tr>\n",
              "    <tr>\n",
              "      <th>376</th>\n",
              "      <td>MS</td>\n",
              "      <td>F</td>\n",
              "      <td>20</td>\n",
              "      <td>U</td>\n",
              "      <td>GT3</td>\n",
              "      <td>T</td>\n",
              "      <td>4</td>\n",
              "      <td>2</td>\n",
              "      <td>health</td>\n",
              "      <td>other</td>\n",
              "      <td>...</td>\n",
              "      <td>5</td>\n",
              "      <td>4</td>\n",
              "      <td>3</td>\n",
              "      <td>1</td>\n",
              "      <td>1</td>\n",
              "      <td>3</td>\n",
              "      <td>4</td>\n",
              "      <td>15</td>\n",
              "      <td>14</td>\n",
              "      <td>15</td>\n",
              "    </tr>\n",
              "  </tbody>\n",
              "</table>\n",
              "<p>3 rows × 33 columns</p>\n",
              "</div>\n",
              "      <button class=\"colab-df-convert\" onclick=\"convertToInteractive('df-f89dd9ef-85aa-4d14-ad00-72c2003a45ed')\"\n",
              "              title=\"Convert this dataframe to an interactive table.\"\n",
              "              style=\"display:none;\">\n",
              "        \n",
              "  <svg xmlns=\"http://www.w3.org/2000/svg\" height=\"24px\"viewBox=\"0 0 24 24\"\n",
              "       width=\"24px\">\n",
              "    <path d=\"M0 0h24v24H0V0z\" fill=\"none\"/>\n",
              "    <path d=\"M18.56 5.44l.94 2.06.94-2.06 2.06-.94-2.06-.94-.94-2.06-.94 2.06-2.06.94zm-11 1L8.5 8.5l.94-2.06 2.06-.94-2.06-.94L8.5 2.5l-.94 2.06-2.06.94zm10 10l.94 2.06.94-2.06 2.06-.94-2.06-.94-.94-2.06-.94 2.06-2.06.94z\"/><path d=\"M17.41 7.96l-1.37-1.37c-.4-.4-.92-.59-1.43-.59-.52 0-1.04.2-1.43.59L10.3 9.45l-7.72 7.72c-.78.78-.78 2.05 0 2.83L4 21.41c.39.39.9.59 1.41.59.51 0 1.02-.2 1.41-.59l7.78-7.78 2.81-2.81c.8-.78.8-2.07 0-2.86zM5.41 20L4 18.59l7.72-7.72 1.47 1.35L5.41 20z\"/>\n",
              "  </svg>\n",
              "      </button>\n",
              "      \n",
              "  <style>\n",
              "    .colab-df-container {\n",
              "      display:flex;\n",
              "      flex-wrap:wrap;\n",
              "      gap: 12px;\n",
              "    }\n",
              "\n",
              "    .colab-df-convert {\n",
              "      background-color: #E8F0FE;\n",
              "      border: none;\n",
              "      border-radius: 50%;\n",
              "      cursor: pointer;\n",
              "      display: none;\n",
              "      fill: #1967D2;\n",
              "      height: 32px;\n",
              "      padding: 0 0 0 0;\n",
              "      width: 32px;\n",
              "    }\n",
              "\n",
              "    .colab-df-convert:hover {\n",
              "      background-color: #E2EBFA;\n",
              "      box-shadow: 0px 1px 2px rgba(60, 64, 67, 0.3), 0px 1px 3px 1px rgba(60, 64, 67, 0.15);\n",
              "      fill: #174EA6;\n",
              "    }\n",
              "\n",
              "    [theme=dark] .colab-df-convert {\n",
              "      background-color: #3B4455;\n",
              "      fill: #D2E3FC;\n",
              "    }\n",
              "\n",
              "    [theme=dark] .colab-df-convert:hover {\n",
              "      background-color: #434B5C;\n",
              "      box-shadow: 0px 1px 3px 1px rgba(0, 0, 0, 0.15);\n",
              "      filter: drop-shadow(0px 1px 2px rgba(0, 0, 0, 0.3));\n",
              "      fill: #FFFFFF;\n",
              "    }\n",
              "  </style>\n",
              "\n",
              "      <script>\n",
              "        const buttonEl =\n",
              "          document.querySelector('#df-f89dd9ef-85aa-4d14-ad00-72c2003a45ed button.colab-df-convert');\n",
              "        buttonEl.style.display =\n",
              "          google.colab.kernel.accessAllowed ? 'block' : 'none';\n",
              "\n",
              "        async function convertToInteractive(key) {\n",
              "          const element = document.querySelector('#df-f89dd9ef-85aa-4d14-ad00-72c2003a45ed');\n",
              "          const dataTable =\n",
              "            await google.colab.kernel.invokeFunction('convertToInteractive',\n",
              "                                                     [key], {});\n",
              "          if (!dataTable) return;\n",
              "\n",
              "          const docLinkHtml = 'Like what you see? Visit the ' +\n",
              "            '<a target=\"_blank\" href=https://colab.research.google.com/notebooks/data_table.ipynb>data table notebook</a>'\n",
              "            + ' to learn more about interactive tables.';\n",
              "          element.innerHTML = '';\n",
              "          dataTable['output_type'] = 'display_data';\n",
              "          await google.colab.output.renderOutput(dataTable, element);\n",
              "          const docLink = document.createElement('div');\n",
              "          docLink.innerHTML = docLinkHtml;\n",
              "          element.appendChild(docLink);\n",
              "        }\n",
              "      </script>\n",
              "    </div>\n",
              "  </div>\n",
              "  "
            ]
          },
          "metadata": {},
          "execution_count": 250
        }
      ],
      "source": [
        "re = df[df[\"Repruebos\"]>=1]\n",
        "re[re[\"NF\"]>=14]"
      ],
      "id": "fUfIfHMengFw"
    },
    {
      "cell_type": "code",
      "execution_count": null,
      "metadata": {
        "id": "e783c522",
        "colab": {
          "base_uri": "https://localhost:8080/"
        },
        "outputId": "57082f4f-021d-44b1-9abc-fa9019c12d1a"
      },
      "outputs": [
        {
          "output_type": "execute_result",
          "data": {
            "text/plain": [
              "Escuela         object\n",
              "Sexo            object\n",
              "Edad             int64\n",
              "Zona            object\n",
              "Familia         object\n",
              "E° padres       object\n",
              "Ed. M            int64\n",
              "Ed. P            int64\n",
              "Trabajo M       object\n",
              "Trabajo P       object\n",
              "Razón           object\n",
              "Tutela          object\n",
              "t de viaje       int64\n",
              "t de estudio     int64\n",
              "Repruebos        int64\n",
              "Schoolsup       object\n",
              "Ed. en casa     object\n",
              "Clases part.    object\n",
              "Actividades     object\n",
              "Guardería       object\n",
              "ed. sup         object\n",
              "internet        object\n",
              "relación        object\n",
              "relación fam     int64\n",
              "t libre          int64\n",
              "t fuera          int64\n",
              "Alc s            int64\n",
              "Alc fds          int64\n",
              "Salud            int64\n",
              "Ausencias        int64\n",
              "N1               int64\n",
              "N2               int64\n",
              "NF               int64\n",
              "dtype: object"
            ]
          },
          "metadata": {},
          "execution_count": 251
        }
      ],
      "source": [
        "df.dtypes"
      ],
      "id": "e783c522"
    },
    {
      "cell_type": "code",
      "execution_count": null,
      "metadata": {
        "id": "c804be3f",
        "colab": {
          "base_uri": "https://localhost:8080/",
          "height": 485
        },
        "outputId": "eef642e3-5c95-4c58-ed28-6256d43ac05a"
      },
      "outputs": [
        {
          "output_type": "execute_result",
          "data": {
            "text/plain": [
              "       Escuela Sexo        Edad Zona Familia E° padres       Ed. M  \\\n",
              "count      395  395  395.000000  395     395       395  395.000000   \n",
              "unique       2    2         NaN    2       2         2         NaN   \n",
              "top         GP    F         NaN    U     GT3         T         NaN   \n",
              "freq       349  208         NaN  307     281       354         NaN   \n",
              "mean       NaN  NaN   16.696203  NaN     NaN       NaN    2.749367   \n",
              "std        NaN  NaN    1.276043  NaN     NaN       NaN    1.094735   \n",
              "min        NaN  NaN   15.000000  NaN     NaN       NaN    0.000000   \n",
              "25%        NaN  NaN   16.000000  NaN     NaN       NaN    2.000000   \n",
              "50%        NaN  NaN   17.000000  NaN     NaN       NaN    3.000000   \n",
              "75%        NaN  NaN   18.000000  NaN     NaN       NaN    4.000000   \n",
              "max        NaN  NaN   22.000000  NaN     NaN       NaN    4.000000   \n",
              "\n",
              "             Ed. P Trabajo M Trabajo P  ... relación fam     t libre  \\\n",
              "count   395.000000       395       395  ...   395.000000  395.000000   \n",
              "unique         NaN         5         5  ...          NaN         NaN   \n",
              "top            NaN     other     other  ...          NaN         NaN   \n",
              "freq           NaN       141       217  ...          NaN         NaN   \n",
              "mean      2.521519       NaN       NaN  ...     3.944304    3.235443   \n",
              "std       1.088201       NaN       NaN  ...     0.896659    0.998862   \n",
              "min       0.000000       NaN       NaN  ...     1.000000    1.000000   \n",
              "25%       2.000000       NaN       NaN  ...     4.000000    3.000000   \n",
              "50%       2.000000       NaN       NaN  ...     4.000000    3.000000   \n",
              "75%       3.000000       NaN       NaN  ...     5.000000    4.000000   \n",
              "max       4.000000       NaN       NaN  ...     5.000000    5.000000   \n",
              "\n",
              "           t fuera       Alc s     Alc fds       Salud   Ausencias  \\\n",
              "count   395.000000  395.000000  395.000000  395.000000  395.000000   \n",
              "unique         NaN         NaN         NaN         NaN         NaN   \n",
              "top            NaN         NaN         NaN         NaN         NaN   \n",
              "freq           NaN         NaN         NaN         NaN         NaN   \n",
              "mean      3.108861    1.481013    2.291139    3.554430    5.708861   \n",
              "std       1.113278    0.890741    1.287897    1.390303    8.003096   \n",
              "min       1.000000    1.000000    1.000000    1.000000    0.000000   \n",
              "25%       2.000000    1.000000    1.000000    3.000000    0.000000   \n",
              "50%       3.000000    1.000000    2.000000    4.000000    4.000000   \n",
              "75%       4.000000    2.000000    3.000000    5.000000    8.000000   \n",
              "max       5.000000    5.000000    5.000000    5.000000   75.000000   \n",
              "\n",
              "                N1          N2          NF  \n",
              "count   395.000000  395.000000  395.000000  \n",
              "unique         NaN         NaN         NaN  \n",
              "top            NaN         NaN         NaN  \n",
              "freq           NaN         NaN         NaN  \n",
              "mean     10.908861   10.713924   10.415190  \n",
              "std       3.319195    3.761505    4.581443  \n",
              "min       3.000000    0.000000    0.000000  \n",
              "25%       8.000000    9.000000    8.000000  \n",
              "50%      11.000000   11.000000   11.000000  \n",
              "75%      13.000000   13.000000   14.000000  \n",
              "max      19.000000   19.000000   20.000000  \n",
              "\n",
              "[11 rows x 33 columns]"
            ],
            "text/html": [
              "\n",
              "  <div id=\"df-5b3b14ae-1c0a-457a-b007-38363d3110fe\">\n",
              "    <div class=\"colab-df-container\">\n",
              "      <div>\n",
              "<style scoped>\n",
              "    .dataframe tbody tr th:only-of-type {\n",
              "        vertical-align: middle;\n",
              "    }\n",
              "\n",
              "    .dataframe tbody tr th {\n",
              "        vertical-align: top;\n",
              "    }\n",
              "\n",
              "    .dataframe thead th {\n",
              "        text-align: right;\n",
              "    }\n",
              "</style>\n",
              "<table border=\"1\" class=\"dataframe\">\n",
              "  <thead>\n",
              "    <tr style=\"text-align: right;\">\n",
              "      <th></th>\n",
              "      <th>Escuela</th>\n",
              "      <th>Sexo</th>\n",
              "      <th>Edad</th>\n",
              "      <th>Zona</th>\n",
              "      <th>Familia</th>\n",
              "      <th>E° padres</th>\n",
              "      <th>Ed. M</th>\n",
              "      <th>Ed. P</th>\n",
              "      <th>Trabajo M</th>\n",
              "      <th>Trabajo P</th>\n",
              "      <th>...</th>\n",
              "      <th>relación fam</th>\n",
              "      <th>t libre</th>\n",
              "      <th>t fuera</th>\n",
              "      <th>Alc s</th>\n",
              "      <th>Alc fds</th>\n",
              "      <th>Salud</th>\n",
              "      <th>Ausencias</th>\n",
              "      <th>N1</th>\n",
              "      <th>N2</th>\n",
              "      <th>NF</th>\n",
              "    </tr>\n",
              "  </thead>\n",
              "  <tbody>\n",
              "    <tr>\n",
              "      <th>count</th>\n",
              "      <td>395</td>\n",
              "      <td>395</td>\n",
              "      <td>395.000000</td>\n",
              "      <td>395</td>\n",
              "      <td>395</td>\n",
              "      <td>395</td>\n",
              "      <td>395.000000</td>\n",
              "      <td>395.000000</td>\n",
              "      <td>395</td>\n",
              "      <td>395</td>\n",
              "      <td>...</td>\n",
              "      <td>395.000000</td>\n",
              "      <td>395.000000</td>\n",
              "      <td>395.000000</td>\n",
              "      <td>395.000000</td>\n",
              "      <td>395.000000</td>\n",
              "      <td>395.000000</td>\n",
              "      <td>395.000000</td>\n",
              "      <td>395.000000</td>\n",
              "      <td>395.000000</td>\n",
              "      <td>395.000000</td>\n",
              "    </tr>\n",
              "    <tr>\n",
              "      <th>unique</th>\n",
              "      <td>2</td>\n",
              "      <td>2</td>\n",
              "      <td>NaN</td>\n",
              "      <td>2</td>\n",
              "      <td>2</td>\n",
              "      <td>2</td>\n",
              "      <td>NaN</td>\n",
              "      <td>NaN</td>\n",
              "      <td>5</td>\n",
              "      <td>5</td>\n",
              "      <td>...</td>\n",
              "      <td>NaN</td>\n",
              "      <td>NaN</td>\n",
              "      <td>NaN</td>\n",
              "      <td>NaN</td>\n",
              "      <td>NaN</td>\n",
              "      <td>NaN</td>\n",
              "      <td>NaN</td>\n",
              "      <td>NaN</td>\n",
              "      <td>NaN</td>\n",
              "      <td>NaN</td>\n",
              "    </tr>\n",
              "    <tr>\n",
              "      <th>top</th>\n",
              "      <td>GP</td>\n",
              "      <td>F</td>\n",
              "      <td>NaN</td>\n",
              "      <td>U</td>\n",
              "      <td>GT3</td>\n",
              "      <td>T</td>\n",
              "      <td>NaN</td>\n",
              "      <td>NaN</td>\n",
              "      <td>other</td>\n",
              "      <td>other</td>\n",
              "      <td>...</td>\n",
              "      <td>NaN</td>\n",
              "      <td>NaN</td>\n",
              "      <td>NaN</td>\n",
              "      <td>NaN</td>\n",
              "      <td>NaN</td>\n",
              "      <td>NaN</td>\n",
              "      <td>NaN</td>\n",
              "      <td>NaN</td>\n",
              "      <td>NaN</td>\n",
              "      <td>NaN</td>\n",
              "    </tr>\n",
              "    <tr>\n",
              "      <th>freq</th>\n",
              "      <td>349</td>\n",
              "      <td>208</td>\n",
              "      <td>NaN</td>\n",
              "      <td>307</td>\n",
              "      <td>281</td>\n",
              "      <td>354</td>\n",
              "      <td>NaN</td>\n",
              "      <td>NaN</td>\n",
              "      <td>141</td>\n",
              "      <td>217</td>\n",
              "      <td>...</td>\n",
              "      <td>NaN</td>\n",
              "      <td>NaN</td>\n",
              "      <td>NaN</td>\n",
              "      <td>NaN</td>\n",
              "      <td>NaN</td>\n",
              "      <td>NaN</td>\n",
              "      <td>NaN</td>\n",
              "      <td>NaN</td>\n",
              "      <td>NaN</td>\n",
              "      <td>NaN</td>\n",
              "    </tr>\n",
              "    <tr>\n",
              "      <th>mean</th>\n",
              "      <td>NaN</td>\n",
              "      <td>NaN</td>\n",
              "      <td>16.696203</td>\n",
              "      <td>NaN</td>\n",
              "      <td>NaN</td>\n",
              "      <td>NaN</td>\n",
              "      <td>2.749367</td>\n",
              "      <td>2.521519</td>\n",
              "      <td>NaN</td>\n",
              "      <td>NaN</td>\n",
              "      <td>...</td>\n",
              "      <td>3.944304</td>\n",
              "      <td>3.235443</td>\n",
              "      <td>3.108861</td>\n",
              "      <td>1.481013</td>\n",
              "      <td>2.291139</td>\n",
              "      <td>3.554430</td>\n",
              "      <td>5.708861</td>\n",
              "      <td>10.908861</td>\n",
              "      <td>10.713924</td>\n",
              "      <td>10.415190</td>\n",
              "    </tr>\n",
              "    <tr>\n",
              "      <th>std</th>\n",
              "      <td>NaN</td>\n",
              "      <td>NaN</td>\n",
              "      <td>1.276043</td>\n",
              "      <td>NaN</td>\n",
              "      <td>NaN</td>\n",
              "      <td>NaN</td>\n",
              "      <td>1.094735</td>\n",
              "      <td>1.088201</td>\n",
              "      <td>NaN</td>\n",
              "      <td>NaN</td>\n",
              "      <td>...</td>\n",
              "      <td>0.896659</td>\n",
              "      <td>0.998862</td>\n",
              "      <td>1.113278</td>\n",
              "      <td>0.890741</td>\n",
              "      <td>1.287897</td>\n",
              "      <td>1.390303</td>\n",
              "      <td>8.003096</td>\n",
              "      <td>3.319195</td>\n",
              "      <td>3.761505</td>\n",
              "      <td>4.581443</td>\n",
              "    </tr>\n",
              "    <tr>\n",
              "      <th>min</th>\n",
              "      <td>NaN</td>\n",
              "      <td>NaN</td>\n",
              "      <td>15.000000</td>\n",
              "      <td>NaN</td>\n",
              "      <td>NaN</td>\n",
              "      <td>NaN</td>\n",
              "      <td>0.000000</td>\n",
              "      <td>0.000000</td>\n",
              "      <td>NaN</td>\n",
              "      <td>NaN</td>\n",
              "      <td>...</td>\n",
              "      <td>1.000000</td>\n",
              "      <td>1.000000</td>\n",
              "      <td>1.000000</td>\n",
              "      <td>1.000000</td>\n",
              "      <td>1.000000</td>\n",
              "      <td>1.000000</td>\n",
              "      <td>0.000000</td>\n",
              "      <td>3.000000</td>\n",
              "      <td>0.000000</td>\n",
              "      <td>0.000000</td>\n",
              "    </tr>\n",
              "    <tr>\n",
              "      <th>25%</th>\n",
              "      <td>NaN</td>\n",
              "      <td>NaN</td>\n",
              "      <td>16.000000</td>\n",
              "      <td>NaN</td>\n",
              "      <td>NaN</td>\n",
              "      <td>NaN</td>\n",
              "      <td>2.000000</td>\n",
              "      <td>2.000000</td>\n",
              "      <td>NaN</td>\n",
              "      <td>NaN</td>\n",
              "      <td>...</td>\n",
              "      <td>4.000000</td>\n",
              "      <td>3.000000</td>\n",
              "      <td>2.000000</td>\n",
              "      <td>1.000000</td>\n",
              "      <td>1.000000</td>\n",
              "      <td>3.000000</td>\n",
              "      <td>0.000000</td>\n",
              "      <td>8.000000</td>\n",
              "      <td>9.000000</td>\n",
              "      <td>8.000000</td>\n",
              "    </tr>\n",
              "    <tr>\n",
              "      <th>50%</th>\n",
              "      <td>NaN</td>\n",
              "      <td>NaN</td>\n",
              "      <td>17.000000</td>\n",
              "      <td>NaN</td>\n",
              "      <td>NaN</td>\n",
              "      <td>NaN</td>\n",
              "      <td>3.000000</td>\n",
              "      <td>2.000000</td>\n",
              "      <td>NaN</td>\n",
              "      <td>NaN</td>\n",
              "      <td>...</td>\n",
              "      <td>4.000000</td>\n",
              "      <td>3.000000</td>\n",
              "      <td>3.000000</td>\n",
              "      <td>1.000000</td>\n",
              "      <td>2.000000</td>\n",
              "      <td>4.000000</td>\n",
              "      <td>4.000000</td>\n",
              "      <td>11.000000</td>\n",
              "      <td>11.000000</td>\n",
              "      <td>11.000000</td>\n",
              "    </tr>\n",
              "    <tr>\n",
              "      <th>75%</th>\n",
              "      <td>NaN</td>\n",
              "      <td>NaN</td>\n",
              "      <td>18.000000</td>\n",
              "      <td>NaN</td>\n",
              "      <td>NaN</td>\n",
              "      <td>NaN</td>\n",
              "      <td>4.000000</td>\n",
              "      <td>3.000000</td>\n",
              "      <td>NaN</td>\n",
              "      <td>NaN</td>\n",
              "      <td>...</td>\n",
              "      <td>5.000000</td>\n",
              "      <td>4.000000</td>\n",
              "      <td>4.000000</td>\n",
              "      <td>2.000000</td>\n",
              "      <td>3.000000</td>\n",
              "      <td>5.000000</td>\n",
              "      <td>8.000000</td>\n",
              "      <td>13.000000</td>\n",
              "      <td>13.000000</td>\n",
              "      <td>14.000000</td>\n",
              "    </tr>\n",
              "    <tr>\n",
              "      <th>max</th>\n",
              "      <td>NaN</td>\n",
              "      <td>NaN</td>\n",
              "      <td>22.000000</td>\n",
              "      <td>NaN</td>\n",
              "      <td>NaN</td>\n",
              "      <td>NaN</td>\n",
              "      <td>4.000000</td>\n",
              "      <td>4.000000</td>\n",
              "      <td>NaN</td>\n",
              "      <td>NaN</td>\n",
              "      <td>...</td>\n",
              "      <td>5.000000</td>\n",
              "      <td>5.000000</td>\n",
              "      <td>5.000000</td>\n",
              "      <td>5.000000</td>\n",
              "      <td>5.000000</td>\n",
              "      <td>5.000000</td>\n",
              "      <td>75.000000</td>\n",
              "      <td>19.000000</td>\n",
              "      <td>19.000000</td>\n",
              "      <td>20.000000</td>\n",
              "    </tr>\n",
              "  </tbody>\n",
              "</table>\n",
              "<p>11 rows × 33 columns</p>\n",
              "</div>\n",
              "      <button class=\"colab-df-convert\" onclick=\"convertToInteractive('df-5b3b14ae-1c0a-457a-b007-38363d3110fe')\"\n",
              "              title=\"Convert this dataframe to an interactive table.\"\n",
              "              style=\"display:none;\">\n",
              "        \n",
              "  <svg xmlns=\"http://www.w3.org/2000/svg\" height=\"24px\"viewBox=\"0 0 24 24\"\n",
              "       width=\"24px\">\n",
              "    <path d=\"M0 0h24v24H0V0z\" fill=\"none\"/>\n",
              "    <path d=\"M18.56 5.44l.94 2.06.94-2.06 2.06-.94-2.06-.94-.94-2.06-.94 2.06-2.06.94zm-11 1L8.5 8.5l.94-2.06 2.06-.94-2.06-.94L8.5 2.5l-.94 2.06-2.06.94zm10 10l.94 2.06.94-2.06 2.06-.94-2.06-.94-.94-2.06-.94 2.06-2.06.94z\"/><path d=\"M17.41 7.96l-1.37-1.37c-.4-.4-.92-.59-1.43-.59-.52 0-1.04.2-1.43.59L10.3 9.45l-7.72 7.72c-.78.78-.78 2.05 0 2.83L4 21.41c.39.39.9.59 1.41.59.51 0 1.02-.2 1.41-.59l7.78-7.78 2.81-2.81c.8-.78.8-2.07 0-2.86zM5.41 20L4 18.59l7.72-7.72 1.47 1.35L5.41 20z\"/>\n",
              "  </svg>\n",
              "      </button>\n",
              "      \n",
              "  <style>\n",
              "    .colab-df-container {\n",
              "      display:flex;\n",
              "      flex-wrap:wrap;\n",
              "      gap: 12px;\n",
              "    }\n",
              "\n",
              "    .colab-df-convert {\n",
              "      background-color: #E8F0FE;\n",
              "      border: none;\n",
              "      border-radius: 50%;\n",
              "      cursor: pointer;\n",
              "      display: none;\n",
              "      fill: #1967D2;\n",
              "      height: 32px;\n",
              "      padding: 0 0 0 0;\n",
              "      width: 32px;\n",
              "    }\n",
              "\n",
              "    .colab-df-convert:hover {\n",
              "      background-color: #E2EBFA;\n",
              "      box-shadow: 0px 1px 2px rgba(60, 64, 67, 0.3), 0px 1px 3px 1px rgba(60, 64, 67, 0.15);\n",
              "      fill: #174EA6;\n",
              "    }\n",
              "\n",
              "    [theme=dark] .colab-df-convert {\n",
              "      background-color: #3B4455;\n",
              "      fill: #D2E3FC;\n",
              "    }\n",
              "\n",
              "    [theme=dark] .colab-df-convert:hover {\n",
              "      background-color: #434B5C;\n",
              "      box-shadow: 0px 1px 3px 1px rgba(0, 0, 0, 0.15);\n",
              "      filter: drop-shadow(0px 1px 2px rgba(0, 0, 0, 0.3));\n",
              "      fill: #FFFFFF;\n",
              "    }\n",
              "  </style>\n",
              "\n",
              "      <script>\n",
              "        const buttonEl =\n",
              "          document.querySelector('#df-5b3b14ae-1c0a-457a-b007-38363d3110fe button.colab-df-convert');\n",
              "        buttonEl.style.display =\n",
              "          google.colab.kernel.accessAllowed ? 'block' : 'none';\n",
              "\n",
              "        async function convertToInteractive(key) {\n",
              "          const element = document.querySelector('#df-5b3b14ae-1c0a-457a-b007-38363d3110fe');\n",
              "          const dataTable =\n",
              "            await google.colab.kernel.invokeFunction('convertToInteractive',\n",
              "                                                     [key], {});\n",
              "          if (!dataTable) return;\n",
              "\n",
              "          const docLinkHtml = 'Like what you see? Visit the ' +\n",
              "            '<a target=\"_blank\" href=https://colab.research.google.com/notebooks/data_table.ipynb>data table notebook</a>'\n",
              "            + ' to learn more about interactive tables.';\n",
              "          element.innerHTML = '';\n",
              "          dataTable['output_type'] = 'display_data';\n",
              "          await google.colab.output.renderOutput(dataTable, element);\n",
              "          const docLink = document.createElement('div');\n",
              "          docLink.innerHTML = docLinkHtml;\n",
              "          element.appendChild(docLink);\n",
              "        }\n",
              "      </script>\n",
              "    </div>\n",
              "  </div>\n",
              "  "
            ]
          },
          "metadata": {},
          "execution_count": 252
        }
      ],
      "source": [
        "df.describe(include=\"all\")"
      ],
      "id": "c804be3f"
    },
    {
      "cell_type": "markdown",
      "metadata": {
        "id": "a1fKoPW_dh9J"
      },
      "source": [
        "#Gráficos\n"
      ],
      "id": "a1fKoPW_dh9J"
    },
    {
      "cell_type": "code",
      "execution_count": null,
      "metadata": {
        "id": "CmLsGNF415NO",
        "colab": {
          "base_uri": "https://localhost:8080/"
        },
        "outputId": "a109da3d-106d-4582-9a5b-252ede2ca70d"
      },
      "outputs": [
        {
          "output_type": "stream",
          "name": "stdout",
          "text": [
            "GP    0.883544\n",
            "MS    0.116456\n",
            "Name: Escuela, dtype: float64\n"
          ]
        },
        {
          "output_type": "display_data",
          "data": {
            "text/plain": [
              "<Figure size 432x288 with 1 Axes>"
            ],
            "image/png": "[encoded data removed]"
          },
          "metadata": {
            "needs_background": "light"
          }
        }
      ],
      "source": [
        "print(df[\"Escuela\"].value_counts(normalize=True))\n",
        "fig, ax = plt.subplots()\n",
        "plt.title('Escuela de los estudiantes',size=15)\n",
        "plt.xlabel(\"Nombre\")\n",
        "plt.ylabel(\"Frecuencia\")\n",
        "df[\"Escuela\"].value_counts().plot(ax=ax, kind=\"bar\")\n",
        "plt.show()"
      ],
      "id": "CmLsGNF415NO"
    },
    {
      "cell_type": "code",
      "execution_count": null,
      "metadata": {
        "id": "C_sSWSgr3DJG",
        "colab": {
          "base_uri": "https://localhost:8080/"
        },
        "outputId": "3493b1d6-51db-4f1a-88e1-3dbccce38b5e"
      },
      "outputs": [
        {
          "output_type": "stream",
          "name": "stdout",
          "text": [
            "F    208\n",
            "M    187\n",
            "Name: Sexo, dtype: int64\n"
          ]
        },
        {
          "output_type": "display_data",
          "data": {
            "text/plain": [
              "<Figure size 432x288 with 1 Axes>"
            ],
            "image/png": "[encoded data removed]"
          },
          "metadata": {
            "needs_background": "light"
          }
        }
      ],
      "source": [
        "print(df[\"Sexo\"].value_counts())\n",
        "fig, ax = plt.subplots()\n",
        "plt.title('Sexo de los estudiantes',size=15)\n",
        "plt.xlabel(\"Sexo\")\n",
        "plt.ylabel(\"Frecuencia\")\n",
        "df[\"Sexo\"].value_counts().plot(ax=ax, kind=\"bar\")\n",
        "plt.show()"
      ],
      "id": "C_sSWSgr3DJG"
    },
    {
      "cell_type": "code",
      "execution_count": null,
      "metadata": {
        "id": "i24LPw1O3Swy",
        "colab": {
          "base_uri": "https://localhost:8080/"
        },
        "outputId": "05eecbb2-caac-41c1-c79e-9a345a952a70"
      },
      "outputs": [
        {
          "output_type": "stream",
          "name": "stdout",
          "text": [
            "16    104\n",
            "17     98\n",
            "18     82\n",
            "15     82\n",
            "19     24\n",
            "20      3\n",
            "22      1\n",
            "21      1\n",
            "Name: Edad, dtype: int64\n"
          ]
        },
        {
          "output_type": "display_data",
          "data": {
            "text/plain": [
              "<Figure size 432x288 with 1 Axes>"
            ],
            "image/png": "[encoded data removed]"
          },
          "metadata": {
            "needs_background": "light"
          }
        }
      ],
      "source": [
        "print(df[\"Edad\"].value_counts())\n",
        "fig, ax = plt.subplots()\n",
        "plt.title('Edad de los estudiantes',size=15)\n",
        "plt.xlabel(\"Edad\")\n",
        "plt.ylabel(\"Frecuencia\")\n",
        "df[\"Edad\"].value_counts().sort_index().plot(ax=ax, kind=\"bar\")\n",
        "plt.show()"
      ],
      "id": "i24LPw1O3Swy"
    },
    {
      "cell_type": "code",
      "execution_count": null,
      "metadata": {
        "id": "VRpeDGVo3Z0a",
        "colab": {
          "base_uri": "https://localhost:8080/"
        },
        "outputId": "23f703cc-e0ab-4ddc-b04b-118345c4c7ba"
      },
      "outputs": [
        {
          "output_type": "stream",
          "name": "stdout",
          "text": [
            "U    307\n",
            "R     88\n",
            "Name: Zona, dtype: int64\n"
          ]
        },
        {
          "output_type": "display_data",
          "data": {
            "text/plain": [
              "<Figure size 432x288 with 1 Axes>"
            ],
            "image/png": "[encoded data removed]"
          },
          "metadata": {
            "needs_background": "light"
          }
        }
      ],
      "source": [
        "print(df[\"Zona\"].value_counts())\n",
        "fig, ax = plt.subplots()\n",
        "plt.title('Zona (urbana/rural)',size=15)\n",
        "plt.ylabel(\"Frecuencia\")\n",
        "df[\"Zona\"].value_counts().plot(ax=ax, kind=\"bar\")\n",
        "plt.show()"
      ],
      "id": "VRpeDGVo3Z0a"
    },
    {
      "cell_type": "code",
      "execution_count": null,
      "metadata": {
        "id": "-tl9gy2Y3lIQ",
        "colab": {
          "base_uri": "https://localhost:8080/"
        },
        "outputId": "9d41555f-7e03-4d6f-d376-89a6133e9ad8"
      },
      "outputs": [
        {
          "output_type": "stream",
          "name": "stdout",
          "text": [
            "GT3    0.711392\n",
            "LE3    0.288608\n",
            "Name: Familia, dtype: float64\n"
          ]
        },
        {
          "output_type": "display_data",
          "data": {
            "text/plain": [
              "<Figure size 432x288 with 1 Axes>"
            ],
            "image/png": "[encoded data removed]"
          },
          "metadata": {
            "needs_background": "light"
          }
        }
      ],
      "source": [
        "print(df[\"Familia\"].value_counts(normalize=True))\n",
        "fig, ax = plt.subplots()\n",
        "plt.title('Tamaño de familia',size=15)\n",
        "plt.xlabel(\"Mayor/menor que 3\")\n",
        "plt.ylabel(\"Frecuencia\")\n",
        "df[\"Familia\"].value_counts().plot(ax=ax, kind=\"bar\")\n",
        "plt.show()"
      ],
      "id": "-tl9gy2Y3lIQ"
    },
    {
      "cell_type": "code",
      "execution_count": null,
      "metadata": {
        "id": "Ft-ECGDe3yEG",
        "colab": {
          "base_uri": "https://localhost:8080/"
        },
        "outputId": "5209da76-ea69-43b0-bb42-3277237a6f17"
      },
      "outputs": [
        {
          "output_type": "stream",
          "name": "stdout",
          "text": [
            "T    354\n",
            "A     41\n",
            "Name: E° padres, dtype: int64\n"
          ]
        },
        {
          "output_type": "display_data",
          "data": {
            "text/plain": [
              "<Figure size 432x288 with 1 Axes>"
            ],
            "image/png": "[encoded data removed]"
          },
          "metadata": {
            "needs_background": "light"
          }
        }
      ],
      "source": [
        "print(df[\"E° padres\"].value_counts())\n",
        "fig, ax = plt.subplots()\n",
        "plt.title('Estado de los padres',size=15)\n",
        "plt.xlabel(\"Estado\")\n",
        "plt.ylabel(\"Frecuencia\")\n",
        "df[\"E° padres\"].value_counts().plot(ax=ax, kind=\"bar\")\n",
        "plt.show()"
      ],
      "id": "Ft-ECGDe3yEG"
    },
    {
      "cell_type": "code",
      "execution_count": null,
      "metadata": {
        "id": "ctU-GCc63-pt",
        "colab": {
          "base_uri": "https://localhost:8080/"
        },
        "outputId": "1f3ed160-3689-4c74-d1c5-e3a85add29ea"
      },
      "outputs": [
        {
          "output_type": "stream",
          "name": "stdout",
          "text": [
            "4    131\n",
            "2    103\n",
            "3     99\n",
            "1     59\n",
            "0      3\n",
            "Name: Ed. M, dtype: int64\n"
          ]
        },
        {
          "output_type": "display_data",
          "data": {
            "text/plain": [
              "<Figure size 432x288 with 1 Axes>"
            ],
            "image/png": "[encoded data removed]"
          },
          "metadata": {
            "needs_background": "light"
          }
        }
      ],
      "source": [
        "print(df[\"Ed. M\"].value_counts())\n",
        "fig, ax = plt.subplots()\n",
        "plt.title('Educación Madre',size=15)\n",
        "plt.ylabel(\"Frecuencia\")\n",
        "df[\"Ed. M\"].value_counts().sort_index().plot(ax=ax ,kind=\"bar\")\n",
        "plt.show()"
      ],
      "id": "ctU-GCc63-pt"
    },
    {
      "cell_type": "code",
      "execution_count": null,
      "metadata": {
        "id": "Wg8_OmVD70Xi",
        "colab": {
          "base_uri": "https://localhost:8080/"
        },
        "outputId": "4e82e9bc-822b-4808-bc32-4fb3eea774f9"
      },
      "outputs": [
        {
          "output_type": "stream",
          "name": "stdout",
          "text": [
            "2    115\n",
            "3    100\n",
            "4     96\n",
            "1     82\n",
            "0      2\n",
            "Name: Ed. P, dtype: int64\n"
          ]
        },
        {
          "output_type": "display_data",
          "data": {
            "text/plain": [
              "<Figure size 432x288 with 1 Axes>"
            ],
            "image/png": "[encoded data removed]"
          },
          "metadata": {
            "needs_background": "light"
          }
        }
      ],
      "source": [
        "print(df[\"Ed. P\"].value_counts())\n",
        "fig, ax = plt.subplots()\n",
        "plt.title('Educación padre',size=15)\n",
        "plt.ylabel(\"Frecuencia\")\n",
        "df[\"Ed. P\"].value_counts().sort_index().plot(ax=ax ,kind=\"bar\")\n",
        "plt.show()"
      ],
      "id": "Wg8_OmVD70Xi"
    },
    {
      "cell_type": "code",
      "execution_count": null,
      "metadata": {
        "id": "7qu7qM_I7_kB",
        "colab": {
          "base_uri": "https://localhost:8080/"
        },
        "outputId": "da2f2960-4d49-4345-867a-723fe8da7a54"
      },
      "outputs": [
        {
          "output_type": "stream",
          "name": "stdout",
          "text": [
            "other       141\n",
            "services    103\n",
            "at_home      59\n",
            "teacher      58\n",
            "health       34\n",
            "Name: Trabajo M, dtype: int64\n"
          ]
        },
        {
          "output_type": "display_data",
          "data": {
            "text/plain": [
              "<Figure size 432x288 with 1 Axes>"
            ],
            "image/png": "[encoded data removed]"
          },
          "metadata": {
            "needs_background": "light"
          }
        }
      ],
      "source": [
        "print(df[\"Trabajo M\"].value_counts())\n",
        "fig, ax = plt.subplots()\n",
        "plt.title('Trabajo madre',size=15)\n",
        "plt.ylabel(\"Frecuencia\")\n",
        "df[\"Trabajo M\"].value_counts().plot(ax=ax ,kind=\"bar\")\n",
        "plt.show()"
      ],
      "id": "7qu7qM_I7_kB"
    },
    {
      "cell_type": "code",
      "execution_count": null,
      "metadata": {
        "id": "eig228kN8gZX",
        "colab": {
          "base_uri": "https://localhost:8080/"
        },
        "outputId": "22d3a70a-c7bf-4621-a594-f2c1846b3eae"
      },
      "outputs": [
        {
          "output_type": "stream",
          "name": "stdout",
          "text": [
            "other       217\n",
            "services    111\n",
            "teacher      29\n",
            "at_home      20\n",
            "health       18\n",
            "Name: Trabajo P, dtype: int64\n"
          ]
        },
        {
          "output_type": "display_data",
          "data": {
            "text/plain": [
              "<Figure size 432x288 with 1 Axes>"
            ],
            "image/png": "[encoded data removed]"
          },
          "metadata": {
            "needs_background": "light"
          }
        }
      ],
      "source": [
        "print(df[\"Trabajo P\"].value_counts())\n",
        "fig, ax = plt.subplots()\n",
        "plt.title('Trabajo padre',size=15)\n",
        "plt.ylabel(\"Frecuencia\")\n",
        "df[\"Trabajo P\"].value_counts().plot(ax=ax ,kind=\"bar\")\n",
        "plt.show()"
      ],
      "id": "eig228kN8gZX"
    },
    {
      "cell_type": "code",
      "execution_count": null,
      "metadata": {
        "id": "Nmayrrf58q1A",
        "colab": {
          "base_uri": "https://localhost:8080/"
        },
        "outputId": "8f7ade5f-b78d-4d7a-f03d-47b2522fce58"
      },
      "outputs": [
        {
          "output_type": "stream",
          "name": "stdout",
          "text": [
            "course        0.367089\n",
            "home          0.275949\n",
            "reputation    0.265823\n",
            "other         0.091139\n",
            "Name: Razón, dtype: float64\n"
          ]
        },
        {
          "output_type": "display_data",
          "data": {
            "text/plain": [
              "<Figure size 432x288 with 1 Axes>"
            ],
            "image/png": "[encoded data removed]"
          },
          "metadata": {
            "needs_background": "light"
          }
        }
      ],
      "source": [
        "print(df[\"Razón\"].value_counts(normalize=True))\n",
        "fig, ax = plt.subplots()\n",
        "plt.title('Razón para elegir la escuela',size=15)\n",
        "plt.ylabel(\"Frecuencia\")\n",
        "df[\"Razón\"].value_counts().plot(ax=ax ,kind=\"bar\")\n",
        "plt.show()"
      ],
      "id": "Nmayrrf58q1A"
    },
    {
      "cell_type": "code",
      "execution_count": null,
      "metadata": {
        "id": "WxqFAUFO8yCX",
        "colab": {
          "base_uri": "https://localhost:8080/"
        },
        "outputId": "3c43d8ad-3378-4a44-b635-3656dfb6b49d"
      },
      "outputs": [
        {
          "output_type": "stream",
          "name": "stdout",
          "text": [
            "mother    273\n",
            "father     90\n",
            "other      32\n",
            "Name: Tutela, dtype: int64\n"
          ]
        },
        {
          "output_type": "display_data",
          "data": {
            "text/plain": [
              "<Figure size 432x288 with 1 Axes>"
            ],
            "image/png": "[encoded data removed]"
          },
          "metadata": {
            "needs_background": "light"
          }
        }
      ],
      "source": [
        "print(df[\"Tutela\"].value_counts())\n",
        "fig, ax = plt.subplots()\n",
        "plt.title('Tutela',size=15)\n",
        "plt.ylabel(\"Frecuencia\")\n",
        "df[\"Tutela\"].value_counts().plot(ax=ax ,kind=\"bar\")\n",
        "plt.show()"
      ],
      "id": "WxqFAUFO8yCX"
    },
    {
      "cell_type": "code",
      "execution_count": null,
      "metadata": {
        "id": "khbjVep4829K",
        "colab": {
          "base_uri": "https://localhost:8080/"
        },
        "outputId": "3ad6f75f-3847-4345-c3b1-6ae68156c963"
      },
      "outputs": [
        {
          "output_type": "stream",
          "name": "stdout",
          "text": [
            "1    257\n",
            "2    107\n",
            "3     23\n",
            "4      8\n",
            "Name: t de viaje, dtype: int64\n"
          ]
        },
        {
          "output_type": "display_data",
          "data": {
            "text/plain": [
              "<Figure size 432x288 with 1 Axes>"
            ],
            "image/png": "[encoded data removed]"
          },
          "metadata": {
            "needs_background": "light"
          }
        }
      ],
      "source": [
        "print(df[\"t de viaje\"].value_counts())\n",
        "fig, ax = plt.subplots()\n",
        "plt.title('Tiempo de viaje (semana)',size=15)\n",
        "plt.ylabel(\"Frecuencia\")\n",
        "df[\"t de viaje\"].value_counts().sort_index().plot(ax=ax ,kind=\"bar\")\n",
        "plt.show()"
      ],
      "id": "khbjVep4829K"
    },
    {
      "cell_type": "code",
      "execution_count": null,
      "metadata": {
        "id": "_8ahi1ug8_g4",
        "colab": {
          "base_uri": "https://localhost:8080/"
        },
        "outputId": "a32b5116-2a49-4044-b0be-3a1e5a7b5916"
      },
      "outputs": [
        {
          "output_type": "stream",
          "name": "stdout",
          "text": [
            "2    198\n",
            "1    105\n",
            "3     65\n",
            "4     27\n",
            "Name: t de estudio, dtype: int64\n"
          ]
        },
        {
          "output_type": "display_data",
          "data": {
            "text/plain": [
              "<Figure size 432x288 with 1 Axes>"
            ],
            "image/png": "[encoded data removed]"
          },
          "metadata": {
            "needs_background": "light"
          }
        }
      ],
      "source": [
        "print(df[\"t de estudio\"].value_counts())\n",
        "fig, ax = plt.subplots()\n",
        "plt.title('Tiempo de estudio (semana)',size=15)\n",
        "plt.ylabel(\"Frecuencia\")\n",
        "df[\"t de estudio\"].value_counts().sort_index().plot(ax=ax ,kind=\"bar\")\n",
        "plt.show()"
      ],
      "id": "_8ahi1ug8_g4"
    },
    {
      "cell_type": "code",
      "execution_count": null,
      "metadata": {
        "id": "0Rsuw7339D8H",
        "colab": {
          "base_uri": "https://localhost:8080/"
        },
        "outputId": "3ebd27c0-bb6c-4cfc-a768-0d8098b23b64"
      },
      "outputs": [
        {
          "output_type": "stream",
          "name": "stdout",
          "text": [
            "0    312\n",
            "1     50\n",
            "2     17\n",
            "3     16\n",
            "Name: Repruebos, dtype: int64\n"
          ]
        },
        {
          "output_type": "display_data",
          "data": {
            "text/plain": [
              "<Figure size 432x288 with 1 Axes>"
            ],
            "image/png": "[encoded data removed]"
          },
          "metadata": {
            "needs_background": "light"
          }
        }
      ],
      "source": [
        "print(df[\"Repruebos\"].value_counts())\n",
        "fig, ax = plt.subplots()\n",
        "plt.title('Materias reprobadas',size=15)\n",
        "plt.xlabel(\"Cantidad\")\n",
        "plt.ylabel(\"Frecuencia\")\n",
        "df[\"Repruebos\"].value_counts().sort_index().plot(ax=ax ,kind=\"bar\")\n",
        "plt.show()"
      ],
      "id": "0Rsuw7339D8H"
    },
    {
      "cell_type": "code",
      "execution_count": null,
      "metadata": {
        "id": "NTNy5idU9Jn3",
        "colab": {
          "base_uri": "https://localhost:8080/"
        },
        "outputId": "7a07dae4-8e73-4d4b-89f5-01102495f361"
      },
      "outputs": [
        {
          "output_type": "stream",
          "name": "stdout",
          "text": [
            "no     344\n",
            "yes     51\n",
            "Name: Schoolsup, dtype: int64\n"
          ]
        },
        {
          "output_type": "display_data",
          "data": {
            "text/plain": [
              "<Figure size 432x288 with 1 Axes>"
            ],
            "image/png": "[encoded data removed]"
          },
          "metadata": {
            "needs_background": "light"
          }
        }
      ],
      "source": [
        "print(df[\"Schoolsup\"].value_counts())\n",
        "fig, ax = plt.subplots()\n",
        "plt.title('Apoyo escolar adicional',size=15)\n",
        "plt.ylabel(\"Frecuencia\")\n",
        "df[\"Schoolsup\"].value_counts().plot(ax=ax ,kind=\"bar\")\n",
        "plt.show()"
      ],
      "id": "NTNy5idU9Jn3"
    },
    {
      "cell_type": "code",
      "execution_count": null,
      "metadata": {
        "id": "UdnGSoUk9PkZ",
        "colab": {
          "base_uri": "https://localhost:8080/"
        },
        "outputId": "b12f099a-e025-4d23-d255-c42c7e902160"
      },
      "outputs": [
        {
          "output_type": "stream",
          "name": "stdout",
          "text": [
            "yes    242\n",
            "no     153\n",
            "Name: Ed. en casa, dtype: int64\n"
          ]
        },
        {
          "output_type": "display_data",
          "data": {
            "text/plain": [
              "<Figure size 432x288 with 1 Axes>"
            ],
            "image/png": "[encoded data removed]"
          },
          "metadata": {
            "needs_background": "light"
          }
        }
      ],
      "source": [
        "print(df[\"Ed. en casa\"].value_counts())\n",
        "fig, ax = plt.subplots()\n",
        "plt.title('Apoyo escolar de la familia',size=15)\n",
        "plt.ylabel(\"Frecuencia\")\n",
        "df[\"Ed. en casa\"].value_counts().sort_index().plot(ax=ax ,kind=\"bar\")\n",
        "plt.show()"
      ],
      "id": "UdnGSoUk9PkZ"
    },
    {
      "cell_type": "code",
      "execution_count": null,
      "metadata": {
        "id": "HMltzyj29WaJ",
        "colab": {
          "base_uri": "https://localhost:8080/"
        },
        "outputId": "4f7044f3-d6ef-4ecd-dd08-bc0a75596acf"
      },
      "outputs": [
        {
          "output_type": "stream",
          "name": "stdout",
          "text": [
            "no     214\n",
            "yes    181\n",
            "Name: Clases part., dtype: int64\n"
          ]
        },
        {
          "output_type": "display_data",
          "data": {
            "text/plain": [
              "<Figure size 432x288 with 1 Axes>"
            ],
            "image/png": "[encoded data removed]"
          },
          "metadata": {
            "needs_background": "light"
          }
        }
      ],
      "source": [
        "print(df[\"Clases part.\"].value_counts())\n",
        "fig, ax = plt.subplots()\n",
        "plt.title('Clases particulares',size=15)\n",
        "plt.ylabel(\"Frecuencia\")\n",
        "df[\"Clases part.\"].value_counts().plot(ax=ax ,kind=\"bar\")\n",
        "plt.show()"
      ],
      "id": "HMltzyj29WaJ"
    },
    {
      "cell_type": "code",
      "execution_count": null,
      "metadata": {
        "id": "zxN2Z2mZ9bO1",
        "colab": {
          "base_uri": "https://localhost:8080/"
        },
        "outputId": "cbbec927-bd11-4de0-939c-4fbe6c6391e8"
      },
      "outputs": [
        {
          "output_type": "stream",
          "name": "stdout",
          "text": [
            "yes    201\n",
            "no     194\n",
            "Name: Actividades, dtype: int64\n"
          ]
        },
        {
          "output_type": "display_data",
          "data": {
            "text/plain": [
              "<Figure size 432x288 with 1 Axes>"
            ],
            "image/png": "[encoded data removed]"
          },
          "metadata": {
            "needs_background": "light"
          }
        }
      ],
      "source": [
        "print(df[\"Actividades\"].value_counts())\n",
        "fig, ax = plt.subplots()\n",
        "plt.title('Actividades extracurriculares',size=15)\n",
        "plt.ylabel(\"Frecuencia\")\n",
        "df[\"Actividades\"].value_counts().sort_index().plot(ax=ax ,kind=\"bar\")\n",
        "plt.show()"
      ],
      "id": "zxN2Z2mZ9bO1"
    },
    {
      "cell_type": "code",
      "execution_count": null,
      "metadata": {
        "id": "3mRK5EoY9gGV",
        "colab": {
          "base_uri": "https://localhost:8080/"
        },
        "outputId": "ca1bd7fc-c93b-40f2-809e-71d3103c8c4a"
      },
      "outputs": [
        {
          "output_type": "stream",
          "name": "stdout",
          "text": [
            "yes    314\n",
            "no      81\n",
            "Name: Guardería, dtype: int64\n"
          ]
        },
        {
          "output_type": "display_data",
          "data": {
            "text/plain": [
              "<Figure size 432x288 with 1 Axes>"
            ],
            "image/png": "[encoded data removed]"
          },
          "metadata": {
            "needs_background": "light"
          }
        }
      ],
      "source": [
        "print(df[\"Guardería\"].value_counts())\n",
        "fig, ax = plt.subplots()\n",
        "plt.title('¿Asistió a guardería?',size=15)\n",
        "plt.ylabel(\"Frecuencia\")\n",
        "df[\"Guardería\"].value_counts().sort_index().plot(ax=ax ,kind=\"bar\")\n",
        "plt.show()"
      ],
      "id": "3mRK5EoY9gGV"
    },
    {
      "cell_type": "code",
      "execution_count": null,
      "metadata": {
        "id": "pAL7Xio19j7l",
        "colab": {
          "base_uri": "https://localhost:8080/"
        },
        "outputId": "de7f6203-ce3c-4195-91e0-5799bd8d1297"
      },
      "outputs": [
        {
          "output_type": "stream",
          "name": "stdout",
          "text": [
            "yes    0.949367\n",
            "no     0.050633\n",
            "Name: ed. sup, dtype: float64\n"
          ]
        },
        {
          "output_type": "display_data",
          "data": {
            "text/plain": [
              "<Figure size 432x288 with 1 Axes>"
            ],
            "image/png": "[encoded data removed]"
          },
          "metadata": {
            "needs_background": "light"
          }
        }
      ],
      "source": [
        "print(df[\"ed. sup\"].value_counts(normalize=True))\n",
        "fig, ax = plt.subplots()\n",
        "plt.title('¿Quiere cursar educación superior?',size=15)\n",
        "plt.ylabel(\"Frecuencia\")\n",
        "df[\"ed. sup\"].value_counts().sort_index().plot(ax=ax ,kind=\"bar\")\n",
        "plt.show()"
      ],
      "id": "pAL7Xio19j7l"
    },
    {
      "cell_type": "code",
      "execution_count": null,
      "metadata": {
        "id": "sSsU-h9p9tDf",
        "colab": {
          "base_uri": "https://localhost:8080/"
        },
        "outputId": "63ce111e-74ec-4092-8d7d-addf03303e95"
      },
      "outputs": [
        {
          "output_type": "stream",
          "name": "stdout",
          "text": [
            "yes    329\n",
            "no      66\n",
            "Name: internet, dtype: int64\n"
          ]
        },
        {
          "output_type": "display_data",
          "data": {
            "text/plain": [
              "<Figure size 432x288 with 1 Axes>"
            ],
            "image/png": "[encoded data removed]"
          },
          "metadata": {
            "needs_background": "light"
          }
        }
      ],
      "source": [
        "print(df[\"internet\"].value_counts())\n",
        "fig, ax = plt.subplots()\n",
        "plt.title('Acceso a internet',size=15)\n",
        "plt.ylabel(\"Frecuencia\")\n",
        "df[\"internet\"].value_counts().sort_index().plot(ax=ax ,kind=\"bar\")\n",
        "plt.show()"
      ],
      "id": "sSsU-h9p9tDf"
    },
    {
      "cell_type": "code",
      "execution_count": null,
      "metadata": {
        "id": "GmSD6T_t9xUi",
        "colab": {
          "base_uri": "https://localhost:8080/"
        },
        "outputId": "ee06c92f-bf91-4c68-ae25-d1e219bef74f"
      },
      "outputs": [
        {
          "output_type": "stream",
          "name": "stdout",
          "text": [
            "no     263\n",
            "yes    132\n",
            "Name: relación, dtype: int64\n"
          ]
        },
        {
          "output_type": "display_data",
          "data": {
            "text/plain": [
              "<Figure size 432x288 with 1 Axes>"
            ],
            "image/png": "[encoded data removed]"
          },
          "metadata": {
            "needs_background": "light"
          }
        }
      ],
      "source": [
        "print(df[\"relación\"].value_counts())\n",
        "fig, ax = plt.subplots()\n",
        "plt.title('En relación romántica',size=15)\n",
        "plt.ylabel(\"Frecuencia\")\n",
        "df[\"relación\"].value_counts().plot(ax=ax ,kind=\"bar\")\n",
        "plt.show()"
      ],
      "id": "GmSD6T_t9xUi"
    },
    {
      "cell_type": "code",
      "execution_count": null,
      "metadata": {
        "id": "sg551TLG92q9",
        "colab": {
          "base_uri": "https://localhost:8080/"
        },
        "outputId": "3d28a988-63f1-476c-cb60-ef802b213053"
      },
      "outputs": [
        {
          "output_type": "stream",
          "name": "stdout",
          "text": [
            "4    195\n",
            "5    106\n",
            "3     68\n",
            "2     18\n",
            "1      8\n",
            "Name: relación fam, dtype: int64\n"
          ]
        },
        {
          "output_type": "display_data",
          "data": {
            "text/plain": [
              "<Figure size 432x288 with 1 Axes>"
            ],
            "image/png": "[encoded data removed]"
          },
          "metadata": {
            "needs_background": "light"
          }
        }
      ],
      "source": [
        "print(df[\"relación fam\"].value_counts())\n",
        "fig, ax = plt.subplots()\n",
        "plt.title('Relación familiar',size=15)\n",
        "plt.ylabel(\"Frecuencia\")\n",
        "df[\"relación fam\"].value_counts().sort_index().plot(ax=ax ,kind=\"bar\")\n",
        "plt.show()"
      ],
      "id": "sg551TLG92q9"
    },
    {
      "cell_type": "code",
      "execution_count": null,
      "metadata": {
        "id": "Siw3jsu-98EL",
        "colab": {
          "base_uri": "https://localhost:8080/"
        },
        "outputId": "2a1db8af-9d22-4923-a016-accfa50a9294"
      },
      "outputs": [
        {
          "output_type": "stream",
          "name": "stdout",
          "text": [
            "3    157\n",
            "4    115\n",
            "2     64\n",
            "5     40\n",
            "1     19\n",
            "Name: t libre, dtype: int64\n"
          ]
        },
        {
          "output_type": "display_data",
          "data": {
            "text/plain": [
              "<Figure size 432x288 with 1 Axes>"
            ],
            "image/png": "[encoded data removed]"
          },
          "metadata": {
            "needs_background": "light"
          }
        }
      ],
      "source": [
        "print(df[\"t libre\"].value_counts())\n",
        "fig, ax = plt.subplots()\n",
        "plt.title('Tiempo libre',size=15)\n",
        "plt.ylabel(\"Frecuencia\")\n",
        "df[\"t libre\"].value_counts().sort_index().plot(ax=ax ,kind=\"bar\")\n",
        "plt.show()"
      ],
      "id": "Siw3jsu-98EL"
    },
    {
      "cell_type": "code",
      "execution_count": null,
      "metadata": {
        "id": "bzrsJ37q-ALc",
        "colab": {
          "base_uri": "https://localhost:8080/"
        },
        "outputId": "77807578-87be-4561-ea67-87326117a996"
      },
      "outputs": [
        {
          "output_type": "stream",
          "name": "stdout",
          "text": [
            "3    130\n",
            "2    103\n",
            "4     86\n",
            "5     53\n",
            "1     23\n",
            "Name: t fuera, dtype: int64\n"
          ]
        },
        {
          "output_type": "display_data",
          "data": {
            "text/plain": [
              "<Figure size 432x288 with 1 Axes>"
            ],
            "image/png": "[encoded data removed]"
          },
          "metadata": {
            "needs_background": "light"
          }
        }
      ],
      "source": [
        "print(df[\"t fuera\"].value_counts())\n",
        "fig, ax = plt.subplots()\n",
        "plt.title('Tiempo fuera',size=15)\n",
        "plt.ylabel(\"Frecuencia\")\n",
        "df[\"t fuera\"].value_counts().sort_index().plot(ax=ax ,kind=\"bar\")\n",
        "plt.show()"
      ],
      "id": "bzrsJ37q-ALc"
    },
    {
      "cell_type": "code",
      "execution_count": null,
      "metadata": {
        "id": "qVlQ9lAQ-ENl",
        "colab": {
          "base_uri": "https://localhost:8080/"
        },
        "outputId": "32427317-75ab-4d90-9a2b-c838b688e477"
      },
      "outputs": [
        {
          "output_type": "stream",
          "name": "stdout",
          "text": [
            "1    276\n",
            "2     75\n",
            "3     26\n",
            "5      9\n",
            "4      9\n",
            "Name: Alc s, dtype: int64\n"
          ]
        },
        {
          "output_type": "display_data",
          "data": {
            "text/plain": [
              "<Figure size 432x288 with 1 Axes>"
            ],
            "image/png": "[encoded data removed]"
          },
          "metadata": {
            "needs_background": "light"
          }
        }
      ],
      "source": [
        "print(df[\"Alc s\"].value_counts())\n",
        "fig, ax = plt.subplots()\n",
        "plt.title('Alcohol en la semana',size=15)\n",
        "plt.ylabel(\"Frecuencia\")\n",
        "df[\"Alc s\"].value_counts().sort_index().plot(ax=ax ,kind=\"bar\")\n",
        "plt.show()"
      ],
      "id": "qVlQ9lAQ-ENl"
    },
    {
      "cell_type": "code",
      "execution_count": null,
      "metadata": {
        "id": "Zhq6zWUB-J53",
        "colab": {
          "base_uri": "https://localhost:8080/"
        },
        "outputId": "bb86c498-df46-4b3e-afff-956be1d6a2f6"
      },
      "outputs": [
        {
          "output_type": "stream",
          "name": "stdout",
          "text": [
            "1    151\n",
            "2     85\n",
            "3     80\n",
            "4     51\n",
            "5     28\n",
            "Name: Alc fds, dtype: int64\n"
          ]
        },
        {
          "output_type": "display_data",
          "data": {
            "text/plain": [
              "<Figure size 432x288 with 1 Axes>"
            ],
            "image/png": "[encoded data removed]"
          },
          "metadata": {
            "needs_background": "light"
          }
        }
      ],
      "source": [
        "print(df[\"Alc fds\"].value_counts())\n",
        "fig, ax = plt.subplots()\n",
        "plt.title('Alcohol en el fin de semana',size=15)\n",
        "plt.ylabel(\"Frecuencia\")\n",
        "df[\"Alc fds\"].value_counts().sort_index().plot(ax=ax ,kind=\"bar\")\n",
        "plt.show()"
      ],
      "id": "Zhq6zWUB-J53"
    },
    {
      "cell_type": "code",
      "execution_count": null,
      "metadata": {
        "id": "MydvZblO-Wgy",
        "colab": {
          "base_uri": "https://localhost:8080/"
        },
        "outputId": "6d85f4ac-6c24-45ec-834d-0d6754f9e399"
      },
      "outputs": [
        {
          "output_type": "stream",
          "name": "stdout",
          "text": [
            "5    146\n",
            "3     91\n",
            "4     66\n",
            "1     47\n",
            "2     45\n",
            "Name: Salud, dtype: int64\n"
          ]
        },
        {
          "output_type": "display_data",
          "data": {
            "text/plain": [
              "<Figure size 432x288 with 1 Axes>"
            ],
            "image/png": "[encoded data removed]"
          },
          "metadata": {
            "needs_background": "light"
          }
        }
      ],
      "source": [
        "print(df[\"Salud\"].value_counts())\n",
        "fig, ax = plt.subplots()\n",
        "plt.title('Estado de salud',size=15)\n",
        "plt.ylabel(\"Frecuencia\")\n",
        "df[\"Salud\"].value_counts().sort_index().plot(ax=ax ,kind=\"bar\")\n",
        "plt.show()"
      ],
      "id": "MydvZblO-Wgy"
    },
    {
      "cell_type": "code",
      "execution_count": null,
      "metadata": {
        "id": "7U77WwNv-aFy",
        "colab": {
          "base_uri": "https://localhost:8080/"
        },
        "outputId": "b4408b8c-79ac-4458-e2b2-5aa64891c6d1"
      },
      "outputs": [
        {
          "output_type": "display_data",
          "data": {
            "text/plain": [
              "<Figure size 432x288 with 1 Axes>"
            ],
            "image/png": "[encoded data removed]"
          },
          "metadata": {
            "needs_background": "light"
          }
        }
      ],
      "source": [
        "fig, ax = plt.subplots()\n",
        "plt.title('Ausencias a clases',size=15)\n",
        "plt.ylabel(\"Frecuencia\")\n",
        "df[\"Ausencias\"].plot(ax=ax ,kind=\"box\")\n",
        "plt.show()"
      ],
      "id": "7U77WwNv-aFy"
    },
    {
      "cell_type": "code",
      "execution_count": null,
      "metadata": {
        "id": "aKpMENQb24Ox",
        "colab": {
          "base_uri": "https://localhost:8080/"
        },
        "outputId": "314da4e1-6fe7-4ec8-dffc-9b1d505067ae"
      },
      "outputs": [
        {
          "output_type": "display_data",
          "data": {
            "text/plain": [
              "<Figure size 432x288 with 1 Axes>"
            ],
            "image/png": "[encoded data removed]"
          },
          "metadata": {
            "needs_background": "light"
          }
        }
      ],
      "source": [
        "fig, ax = plt.subplots()\n",
        "plt.title('Nota del primer periodo',size=15)\n",
        "plt.ylabel(\"Frecuencia\")\n",
        "df.boxplot(column = \"N1\", grid=False)\n",
        "plt.show()"
      ],
      "id": "aKpMENQb24Ox"
    },
    {
      "cell_type": "code",
      "execution_count": null,
      "metadata": {
        "id": "Z4mUJKHS5PrF",
        "colab": {
          "base_uri": "https://localhost:8080/"
        },
        "outputId": "46992dbd-0cdb-4830-bac0-7376a7ce8b48"
      },
      "outputs": [
        {
          "output_type": "display_data",
          "data": {
            "text/plain": [
              "<Figure size 432x288 with 1 Axes>"
            ],
            "image/png": "[encoded data removed]"
          },
          "metadata": {
            "needs_background": "light"
          }
        }
      ],
      "source": [
        "fig, ax = plt.subplots()\n",
        "plt.title('Nota del segundo periodo',size=15)\n",
        "plt.ylabel(\"Frecuencia\")\n",
        "df.boxplot(column = \"N2\", grid=False)\n",
        "plt.show()"
      ],
      "id": "Z4mUJKHS5PrF"
    },
    {
      "cell_type": "code",
      "execution_count": null,
      "metadata": {
        "id": "I-Su-NWD5Vbd",
        "colab": {
          "base_uri": "https://localhost:8080/"
        },
        "outputId": "b4571c0c-d632-470c-f955-dc4ba04a91f6"
      },
      "outputs": [
        {
          "output_type": "display_data",
          "data": {
            "text/plain": [
              "<Figure size 432x288 with 1 Axes>"
            ],
            "image/png": "[encoded data removed]"
          },
          "metadata": {
            "needs_background": "light"
          }
        }
      ],
      "source": [
        "fig, ax = plt.subplots()\n",
        "plt.title('Nota final',size=15)\n",
        "plt.ylabel(\"Frecuencia\")\n",
        "df.boxplot(column = \"NF\", grid=False)\n",
        "plt.show()"
      ],
      "id": "I-Su-NWD5Vbd"
    },
    {
      "cell_type": "markdown",
      "source": [
        "# Matríz de características"
      ],
      "metadata": {
        "id": "QWaKb-6OT2YH"
      },
      "id": "QWaKb-6OT2YH"
    },
    {
      "cell_type": "code",
      "source": [
        "listae = df[\"Escuela\"]\n",
        "for i in range(0,len(listae)):\n",
        "  if listae[i] == \"GP\":\n",
        "    listae[i] = 0\n",
        "  else :\n",
        "    listae[i] = 1\n",
        "df[\"Escuela\"] = listae\n",
        "df[\"Escuela\"] = df[\"Escuela\"].astype(str).astype(int)"
      ],
      "metadata": {
        "id": "bFBEBoJ_T0_R"
      },
      "id": "bFBEBoJ_T0_R",
      "execution_count": null,
      "outputs": []
    },
    {
      "cell_type": "markdown",
      "source": [
        "0 = GP\n",
        "\n",
        "1 = MS"
      ],
      "metadata": {
        "id": "Kb6L6KplW9BG"
      },
      "id": "Kb6L6KplW9BG"
    },
    {
      "cell_type": "code",
      "source": [
        "listas = df[\"Sexo\"]\n",
        "for i in range(0,len(listas)):\n",
        "  if listas[i] == \"F\":\n",
        "    listas[i] = 0\n",
        "  else :\n",
        "    listas[i] = 1\n",
        "df[\"Sexo\"] = listas\n",
        "df[\"Sexo\"] = df[\"Sexo\"].astype(str).astype(int)"
      ],
      "metadata": {
        "id": "ZZqw2eZmW_mq"
      },
      "id": "ZZqw2eZmW_mq",
      "execution_count": null,
      "outputs": []
    },
    {
      "cell_type": "markdown",
      "source": [
        "0 = F\n",
        "\n",
        "1 = M"
      ],
      "metadata": {
        "id": "AyBHsiChXEst"
      },
      "id": "AyBHsiChXEst"
    },
    {
      "cell_type": "code",
      "source": [
        "listaz = df[\"Zona\"]\n",
        "for i in range(0,len(listaz)):\n",
        "  if listaz[i] == \"U\":\n",
        "    listaz[i] = 0\n",
        "  else :\n",
        "    listaz[i] = 1\n",
        "df[\"Zona\"] = listaz\n",
        "df[\"Zona\"] = df[\"Zona\"].astype(str).astype(int)"
      ],
      "metadata": {
        "id": "X5seG38aXQs1"
      },
      "id": "X5seG38aXQs1",
      "execution_count": null,
      "outputs": []
    },
    {
      "cell_type": "markdown",
      "source": [
        "0 = U\n",
        "\n",
        "1 = R"
      ],
      "metadata": {
        "id": "edvXqvHmXj3i"
      },
      "id": "edvXqvHmXj3i"
    },
    {
      "cell_type": "code",
      "source": [
        "listaf = df[\"Familia\"]\n",
        "for i in range(0,len(listaf)):\n",
        "  if listaf[i] == \"LT3\":\n",
        "    listaf[i] = 0\n",
        "  else :\n",
        "    listaf[i] = 1\n",
        "df[\"Familia\"] = listaf\n",
        "df[\"Familia\"] = df[\"Familia\"].astype(str).astype(int)"
      ],
      "metadata": {
        "id": "5nE-rWBDYSE7"
      },
      "id": "5nE-rWBDYSE7",
      "execution_count": null,
      "outputs": []
    },
    {
      "cell_type": "markdown",
      "source": [
        "LT3 = 0\n",
        "\n",
        "GT3 = 1"
      ],
      "metadata": {
        "id": "EKVop5RXYZ0h"
      },
      "id": "EKVop5RXYZ0h"
    },
    {
      "cell_type": "code",
      "source": [
        "listap = df[\"E° padres\"]\n",
        "for i in range(0,len(listap)):\n",
        "  if listap[i] == \"T\":\n",
        "    listap[i] = 0\n",
        "  else :\n",
        "    listap[i] = 1\n",
        "df[\"E° padres\"] = listap\n",
        "df[\"E° padres\"] = df[\"E° padres\"].astype(str).astype(int)"
      ],
      "metadata": {
        "id": "bK5R1CQOYg67"
      },
      "id": "bK5R1CQOYg67",
      "execution_count": null,
      "outputs": []
    },
    {
      "cell_type": "markdown",
      "source": [
        "T = 0\n",
        "\n",
        "A = 1"
      ],
      "metadata": {
        "id": "c7YvbuqhYtb5"
      },
      "id": "c7YvbuqhYtb5"
    },
    {
      "cell_type": "code",
      "source": [
        "listatm = df[\"Trabajo M\"]\n",
        "for i in range(0,len(listatm)):\n",
        "  if listatm[i] == \"at_home\":\n",
        "    listatm[i] = 0\n",
        "  elif listatm[i] == \"teacher\":\n",
        "    listatm[i] = 1\n",
        "  elif listatm[i] == \"services\":\n",
        "    listatm[i] = 2\n",
        "  elif listatm[i] == \"health\":\n",
        "    listatm[i] = 3\n",
        "  else:\n",
        "    listatm[i] = 4\n",
        "df[\"Trabajo M\"] = listatm\n",
        "df[\"Trabajo M\"] = df[\"Trabajo M\"].astype(str).astype(int)"
      ],
      "metadata": {
        "id": "ayzodMc9YzSF"
      },
      "id": "ayzodMc9YzSF",
      "execution_count": null,
      "outputs": []
    },
    {
      "cell_type": "code",
      "source": [
        "listatp = df[\"Trabajo P\"]\n",
        "for i in range(0,len(listatp)):\n",
        "  if listatp[i] == \"at_home\":\n",
        "    listatp[i] = 0\n",
        "  elif listatp[i] == \"teacher\":\n",
        "    listatp[i] = 1\n",
        "  elif listatp[i] == \"services\":\n",
        "    listatp[i] = 2\n",
        "  elif listatp[i] == \"health\":\n",
        "    listatp[i] = 3\n",
        "  else:\n",
        "    listatp[i] = 4\n",
        "df[\"Trabajo P\"] = listatp\n",
        "df[\"Trabajo P\"] = df[\"Trabajo P\"].astype(str).astype(int)"
      ],
      "metadata": {
        "id": "TgjtWQhaZ4YD"
      },
      "id": "TgjtWQhaZ4YD",
      "execution_count": null,
      "outputs": []
    },
    {
      "cell_type": "markdown",
      "source": [
        "at home = 0\n",
        "\n",
        "teacher = 1\n",
        "\n",
        "services = 2\n",
        "\n",
        "health = 3\n",
        "\n",
        "other = 4"
      ],
      "metadata": {
        "id": "lEouUkMBZuKQ"
      },
      "id": "lEouUkMBZuKQ"
    },
    {
      "cell_type": "code",
      "source": [
        "listar = df[\"Razón\"]\n",
        "for i in range(0,len(listar)):\n",
        "  if listar[i] == \"home\":\n",
        "    listar[i] = 0\n",
        "  elif listar[i] == \"reputation\":\n",
        "    listar[i] = 1\n",
        "  elif listar[i] == \"course\":\n",
        "    listar[i] = 2\n",
        "  elif listar[i] == \"other\":\n",
        "    listar[i] = 3\n",
        "df[\"Razón\"] = listar\n",
        "df[\"Razón\"] = df[\"Razón\"].astype(str).astype(int)"
      ],
      "metadata": {
        "id": "H6Af4BqZei8O"
      },
      "id": "H6Af4BqZei8O",
      "execution_count": null,
      "outputs": []
    },
    {
      "cell_type": "code",
      "source": [
        "listatu = df[\"Tutela\"]\n",
        "for i in range(0,len(listatu)):\n",
        "  if listatu[i] == \"mother\":\n",
        "    listatu[i] = 0\n",
        "  elif listatu[i] == \"father\":\n",
        "    listatu[i] = 1\n",
        "  elif listatu[i] == \"other\":\n",
        "    listatu[i] = 2\n",
        "df[\"Tutela\"] = listatu\n",
        "df[\"Tutela\"] = df[\"Tutela\"].astype(str).astype(int)"
      ],
      "metadata": {
        "id": "p-bMzhg1fZkI"
      },
      "id": "p-bMzhg1fZkI",
      "execution_count": null,
      "outputs": []
    },
    {
      "cell_type": "code",
      "source": [
        "listaed = df[\"Schoolsup\"]\n",
        "for i in range(0,len(listaed)):\n",
        "  if listaed[i] == \"yes\":\n",
        "    listaed[i] = 0\n",
        "  else :\n",
        "    listaed[i] = 1\n",
        "df[\"Schoolsup\"] = listaed\n",
        "df[\"Schoolsup\"] = df[\"Schoolsup\"].astype(str).astype(int)"
      ],
      "metadata": {
        "id": "8ERXcNaKgQFu"
      },
      "id": "8ERXcNaKgQFu",
      "execution_count": null,
      "outputs": []
    },
    {
      "cell_type": "code",
      "source": [
        "lista1 = df[\"Ed. en casa\"]\n",
        "for i in range(0,len(lista1)):\n",
        "  if lista1[i] == \"yes\":\n",
        "    lista1[i] = 0\n",
        "  else :\n",
        "    lista1[i] = 1\n",
        "df[\"Ed. en casa\"] = lista1\n",
        "df[\"Ed. en casa\"] = df[\"Ed. en casa\"].astype(str).astype(int)"
      ],
      "metadata": {
        "id": "x5mCodAtgf25"
      },
      "id": "x5mCodAtgf25",
      "execution_count": null,
      "outputs": []
    },
    {
      "cell_type": "code",
      "source": [
        "lista2 = df[\"Clases part.\"]\n",
        "for i in range(0,len(lista2)):\n",
        "  if lista2[i] == \"yes\":\n",
        "    lista2[i] = 0\n",
        "  else :\n",
        "    lista2[i] = 1\n",
        "df[\"Clases part.\"] = lista2\n",
        "df[\"Clases part.\"] = df[\"Clases part.\"].astype(str).astype(int)"
      ],
      "metadata": {
        "id": "N2TJCSu2gzm7"
      },
      "id": "N2TJCSu2gzm7",
      "execution_count": null,
      "outputs": []
    },
    {
      "cell_type": "code",
      "source": [
        "lista3 = df[\"Actividades\"]\n",
        "for i in range(0,len(lista3)):\n",
        "  if lista3[i] == \"yes\":\n",
        "    lista3[i] = 0\n",
        "  else :\n",
        "    lista3[i] = 1\n",
        "df[\"Actividades\"] = lista3\n",
        "df[\"Actividades\"] = df[\"Actividades\"].astype(str).astype(int)"
      ],
      "metadata": {
        "id": "cYs1mMP8gmVz"
      },
      "id": "cYs1mMP8gmVz",
      "execution_count": null,
      "outputs": []
    },
    {
      "cell_type": "code",
      "source": [
        "lista4 = df[\"Guardería\"]\n",
        "for i in range(0,len(lista4)):\n",
        "  if lista4[i] == \"yes\":\n",
        "    lista4[i] = 0\n",
        "  else :\n",
        "    lista4[i] = 1\n",
        "df[\"Guardería\"] = lista4\n",
        "df[\"Guardería\"] = df[\"Guardería\"].astype(str).astype(int)"
      ],
      "metadata": {
        "id": "sjfoibt-hLWV"
      },
      "id": "sjfoibt-hLWV",
      "execution_count": null,
      "outputs": []
    },
    {
      "cell_type": "code",
      "source": [
        "lista5 = df[\"ed. sup\"]\n",
        "for i in range(0,len(lista5)):\n",
        "  if lista5[i] == \"yes\":\n",
        "    lista5[i] = 0\n",
        "  else :\n",
        "    lista5[i] = 1\n",
        "df[\"ed. sup\"] = lista5\n",
        "df[\"ed. sup\"] = df[\"ed. sup\"].astype(str).astype(int)"
      ],
      "metadata": {
        "id": "xhtYRbm6hV9g"
      },
      "id": "xhtYRbm6hV9g",
      "execution_count": null,
      "outputs": []
    },
    {
      "cell_type": "code",
      "source": [
        "lista6 = df[\"internet\"]\n",
        "for i in range(0,len(lista6)):\n",
        "  if lista6[i] == \"yes\":\n",
        "    lista6[i] = 0\n",
        "  else :\n",
        "    lista6[i] = 1\n",
        "df[\"internet\"] = lista6\n",
        "df[\"internet\"] = df[\"internet\"].astype(str).astype(int)"
      ],
      "metadata": {
        "id": "Ey89vIDWhgzn"
      },
      "id": "Ey89vIDWhgzn",
      "execution_count": null,
      "outputs": []
    },
    {
      "cell_type": "code",
      "source": [
        "lista7 = df[\"relación\"]\n",
        "for i in range(0,len(lista7)):\n",
        "  if lista7[i] == \"yes\":\n",
        "    lista7[i] = 0\n",
        "  else :\n",
        "    lista7[i] = 1\n",
        "df[\"relación\"] = lista7\n",
        "df[\"relación\"] = df[\"relación\"].astype(str).astype(int)"
      ],
      "metadata": {
        "id": "G1nzRheahpUT"
      },
      "id": "G1nzRheahpUT",
      "execution_count": null,
      "outputs": []
    },
    {
      "cell_type": "markdown",
      "source": [
        "# Definir Matríz de Características\n"
      ],
      "metadata": {
        "id": "Ba9d1FkXnA_P"
      },
      "id": "Ba9d1FkXnA_P"
    },
    {
      "cell_type": "markdown",
      "source": [
        "Crear columnas"
      ],
      "metadata": {
        "id": "DNP8vxfkmyfH"
      },
      "id": "DNP8vxfkmyfH"
    },
    {
      "cell_type": "code",
      "source": [
        "df[\"Apoyo adicional\"] = df[\"Schoolsup\"] + df[\"Ed. en casa\"]\n",
        "df[\"Eficiencia\"] = (df[\"t de estudio\"])/(df[\"t libre\"])"
      ],
      "metadata": {
        "id": "RVlas88RlUUR"
      },
      "id": "RVlas88RlUUR",
      "execution_count": null,
      "outputs": []
    },
    {
      "cell_type": "markdown",
      "source": [
        "Eliminar columnas"
      ],
      "metadata": {
        "id": "CGpJuWApm1K6"
      },
      "id": "CGpJuWApm1K6"
    },
    {
      "cell_type": "code",
      "source": [
        "del df[\"E° padres\"]\n",
        "del df[\"Ed. M\"]\n",
        "del df['Ed. P']\n",
        "del df['Trabajo M']\n",
        "del df['Trabajo P']\n",
        "del df['Razón']\n",
        "del df['Tutela']\n",
        "del df['t de viaje']\n",
        "del df['t de estudio']\n",
        "del df['Schoolsup']\n",
        "del df['Ed. en casa']\n",
        "del df['Actividades']\n",
        "del df['Guardería']\n",
        "del df['ed. sup']\n",
        "del df['internet']\n",
        "del df['relación']\n",
        "del df['relación fam']\n",
        "del df['t libre']\n",
        "del df['Salud']"
      ],
      "metadata": {
        "id": "S2DqFf8lmjod"
      },
      "id": "S2DqFf8lmjod",
      "execution_count": null,
      "outputs": []
    },
    {
      "cell_type": "code",
      "source": [
        "MC = df"
      ],
      "metadata": {
        "id": "vL3vBApyoehY"
      },
      "id": "vL3vBApyoehY",
      "execution_count": null,
      "outputs": []
    },
    {
      "cell_type": "code",
      "source": [
        "df.info()"
      ],
      "metadata": {
        "id": "6xQnpKrGcIQZ",
        "colab": {
          "base_uri": "https://localhost:8080/"
        },
        "outputId": "6964ea66-6a95-41b6-946c-2d3d29fba9cc"
      },
      "id": "6xQnpKrGcIQZ",
      "execution_count": null,
      "outputs": [
        {
          "output_type": "stream",
          "name": "stdout",
          "text": [
            "<class 'pandas.core.frame.DataFrame'>\n",
            "RangeIndex: 395 entries, 0 to 394\n",
            "Data columns (total 16 columns):\n",
            " #   Column           Non-Null Count  Dtype  \n",
            "---  ------           --------------  -----  \n",
            " 0   Escuela          395 non-null    int64  \n",
            " 1   Sexo             395 non-null    int64  \n",
            " 2   Edad             395 non-null    int64  \n",
            " 3   Zona             395 non-null    int64  \n",
            " 4   Familia          395 non-null    int64  \n",
            " 5   Repruebos        395 non-null    int64  \n",
            " 6   Clases part.     395 non-null    int64  \n",
            " 7   t fuera          395 non-null    int64  \n",
            " 8   Alc s            395 non-null    int64  \n",
            " 9   Alc fds          395 non-null    int64  \n",
            " 10  Ausencias        395 non-null    int64  \n",
            " 11  N1               395 non-null    int64  \n",
            " 12  N2               395 non-null    int64  \n",
            " 13  NF               395 non-null    int64  \n",
            " 14  Apoyo adicional  395 non-null    int64  \n",
            " 15  Eficiencia       395 non-null    float64\n",
            "dtypes: float64(1), int64(15)\n",
            "memory usage: 49.5 KB\n"
          ]
        }
      ]
    },
    {
      "cell_type": "code",
      "source": [
        "MC"
      ],
      "metadata": {
        "colab": {
          "base_uri": "https://localhost:8080/",
          "height": 423
        },
        "id": "BcLmKcdvmQuG",
        "outputId": "12161964-9423-4370-f962-94c18f66d822"
      },
      "id": "BcLmKcdvmQuG",
      "execution_count": null,
      "outputs": [
        {
          "output_type": "execute_result",
          "data": {
            "text/plain": [
              "     Escuela  Sexo  Edad  Zona  Familia  Repruebos  Clases part.  t fuera  \\\n",
              "0          0     0    18     0        1          0             1        4   \n",
              "1          0     0    17     0        1          0             1        3   \n",
              "2          0     0    15     0        1          3             0        2   \n",
              "3          0     0    15     0        1          0             0        2   \n",
              "4          0     0    16     0        1          0             0        2   \n",
              "..       ...   ...   ...   ...      ...        ...           ...      ...   \n",
              "390        1     1    20     0        1          2             0        4   \n",
              "391        1     1    17     0        1          0             1        5   \n",
              "392        1     1    21     1        1          3             1        3   \n",
              "393        1     1    18     1        1          0             1        1   \n",
              "394        1     1    19     0        1          0             1        3   \n",
              "\n",
              "     Alc s  Alc fds  Ausencias  N1  N2  NF  Apoyo adicional  Eficiencia  \n",
              "0        1        1          6   5   6   6                1    0.666667  \n",
              "1        1        1          4   5   5   6                1    0.666667  \n",
              "2        2        3         10   7   8  10                1    0.666667  \n",
              "3        1        1          2  15  14  15                1    1.500000  \n",
              "4        1        2          4   6  10  10                1    0.666667  \n",
              "..     ...      ...        ...  ..  ..  ..              ...         ...  \n",
              "390      4        5         11   9   9   9                1    0.400000  \n",
              "391      3        4          3  14  16  16                2    0.250000  \n",
              "392      3        3          3  10   8   7                2    0.200000  \n",
              "393      3        4          0  11  12  10                2    0.250000  \n",
              "394      3        3          5   8   9   9                2    0.500000  \n",
              "\n",
              "[395 rows x 16 columns]"
            ],
            "text/html": [
              "\n",
              "  <div id=\"df-5434c60c-13d7-4aa0-afcc-b21222696851\">\n",
              "    <div class=\"colab-df-container\">\n",
              "      <div>\n",
              "<style scoped>\n",
              "    .dataframe tbody tr th:only-of-type {\n",
              "        vertical-align: middle;\n",
              "    }\n",
              "\n",
              "    .dataframe tbody tr th {\n",
              "        vertical-align: top;\n",
              "    }\n",
              "\n",
              "    .dataframe thead th {\n",
              "        text-align: right;\n",
              "    }\n",
              "</style>\n",
              "<table border=\"1\" class=\"dataframe\">\n",
              "  <thead>\n",
              "    <tr style=\"text-align: right;\">\n",
              "      <th></th>\n",
              "      <th>Escuela</th>\n",
              "      <th>Sexo</th>\n",
              "      <th>Edad</th>\n",
              "      <th>Zona</th>\n",
              "      <th>Familia</th>\n",
              "      <th>Repruebos</th>\n",
              "      <th>Clases part.</th>\n",
              "      <th>t fuera</th>\n",
              "      <th>Alc s</th>\n",
              "      <th>Alc fds</th>\n",
              "      <th>Ausencias</th>\n",
              "      <th>N1</th>\n",
              "      <th>N2</th>\n",
              "      <th>NF</th>\n",
              "      <th>Apoyo adicional</th>\n",
              "      <th>Eficiencia</th>\n",
              "    </tr>\n",
              "  </thead>\n",
              "  <tbody>\n",
              "    <tr>\n",
              "      <th>0</th>\n",
              "      <td>0</td>\n",
              "      <td>0</td>\n",
              "      <td>18</td>\n",
              "      <td>0</td>\n",
              "      <td>1</td>\n",
              "      <td>0</td>\n",
              "      <td>1</td>\n",
              "      <td>4</td>\n",
              "      <td>1</td>\n",
              "      <td>1</td>\n",
              "      <td>6</td>\n",
              "      <td>5</td>\n",
              "      <td>6</td>\n",
              "      <td>6</td>\n",
              "      <td>1</td>\n",
              "      <td>0.666667</td>\n",
              "    </tr>\n",
              "    <tr>\n",
              "      <th>1</th>\n",
              "      <td>0</td>\n",
              "      <td>0</td>\n",
              "      <td>17</td>\n",
              "      <td>0</td>\n",
              "      <td>1</td>\n",
              "      <td>0</td>\n",
              "      <td>1</td>\n",
              "      <td>3</td>\n",
              "      <td>1</td>\n",
              "      <td>1</td>\n",
              "      <td>4</td>\n",
              "      <td>5</td>\n",
              "      <td>5</td>\n",
              "      <td>6</td>\n",
              "      <td>1</td>\n",
              "      <td>0.666667</td>\n",
              "    </tr>\n",
              "    <tr>\n",
              "      <th>2</th>\n",
              "      <td>0</td>\n",
              "      <td>0</td>\n",
              "      <td>15</td>\n",
              "      <td>0</td>\n",
              "      <td>1</td>\n",
              "      <td>3</td>\n",
              "      <td>0</td>\n",
              "      <td>2</td>\n",
              "      <td>2</td>\n",
              "      <td>3</td>\n",
              "      <td>10</td>\n",
              "      <td>7</td>\n",
              "      <td>8</td>\n",
              "      <td>10</td>\n",
              "      <td>1</td>\n",
              "      <td>0.666667</td>\n",
              "    </tr>\n",
              "    <tr>\n",
              "      <th>3</th>\n",
              "      <td>0</td>\n",
              "      <td>0</td>\n",
              "      <td>15</td>\n",
              "      <td>0</td>\n",
              "      <td>1</td>\n",
              "      <td>0</td>\n",
              "      <td>0</td>\n",
              "      <td>2</td>\n",
              "      <td>1</td>\n",
              "      <td>1</td>\n",
              "      <td>2</td>\n",
              "      <td>15</td>\n",
              "      <td>14</td>\n",
              "      <td>15</td>\n",
              "      <td>1</td>\n",
              "      <td>1.500000</td>\n",
              "    </tr>\n",
              "    <tr>\n",
              "      <th>4</th>\n",
              "      <td>0</td>\n",
              "      <td>0</td>\n",
              "      <td>16</td>\n",
              "      <td>0</td>\n",
              "      <td>1</td>\n",
              "      <td>0</td>\n",
              "      <td>0</td>\n",
              "      <td>2</td>\n",
              "      <td>1</td>\n",
              "      <td>2</td>\n",
              "      <td>4</td>\n",
              "      <td>6</td>\n",
              "      <td>10</td>\n",
              "      <td>10</td>\n",
              "      <td>1</td>\n",
              "      <td>0.666667</td>\n",
              "    </tr>\n",
              "    <tr>\n",
              "      <th>...</th>\n",
              "      <td>...</td>\n",
              "      <td>...</td>\n",
              "      <td>...</td>\n",
              "      <td>...</td>\n",
              "      <td>...</td>\n",
              "      <td>...</td>\n",
              "      <td>...</td>\n",
              "      <td>...</td>\n",
              "      <td>...</td>\n",
              "      <td>...</td>\n",
              "      <td>...</td>\n",
              "      <td>...</td>\n",
              "      <td>...</td>\n",
              "      <td>...</td>\n",
              "      <td>...</td>\n",
              "      <td>...</td>\n",
              "    </tr>\n",
              "    <tr>\n",
              "      <th>390</th>\n",
              "      <td>1</td>\n",
              "      <td>1</td>\n",
              "      <td>20</td>\n",
              "      <td>0</td>\n",
              "      <td>1</td>\n",
              "      <td>2</td>\n",
              "      <td>0</td>\n",
              "      <td>4</td>\n",
              "      <td>4</td>\n",
              "      <td>5</td>\n",
              "      <td>11</td>\n",
              "      <td>9</td>\n",
              "      <td>9</td>\n",
              "      <td>9</td>\n",
              "      <td>1</td>\n",
              "      <td>0.400000</td>\n",
              "    </tr>\n",
              "    <tr>\n",
              "      <th>391</th>\n",
              "      <td>1</td>\n",
              "      <td>1</td>\n",
              "      <td>17</td>\n",
              "      <td>0</td>\n",
              "      <td>1</td>\n",
              "      <td>0</td>\n",
              "      <td>1</td>\n",
              "      <td>5</td>\n",
              "      <td>3</td>\n",
              "      <td>4</td>\n",
              "      <td>3</td>\n",
              "      <td>14</td>\n",
              "      <td>16</td>\n",
              "      <td>16</td>\n",
              "      <td>2</td>\n",
              "      <td>0.250000</td>\n",
              "    </tr>\n",
              "    <tr>\n",
              "      <th>392</th>\n",
              "      <td>1</td>\n",
              "      <td>1</td>\n",
              "      <td>21</td>\n",
              "      <td>1</td>\n",
              "      <td>1</td>\n",
              "      <td>3</td>\n",
              "      <td>1</td>\n",
              "      <td>3</td>\n",
              "      <td>3</td>\n",
              "      <td>3</td>\n",
              "      <td>3</td>\n",
              "      <td>10</td>\n",
              "      <td>8</td>\n",
              "      <td>7</td>\n",
              "      <td>2</td>\n",
              "      <td>0.200000</td>\n",
              "    </tr>\n",
              "    <tr>\n",
              "      <th>393</th>\n",
              "      <td>1</td>\n",
              "      <td>1</td>\n",
              "      <td>18</td>\n",
              "      <td>1</td>\n",
              "      <td>1</td>\n",
              "      <td>0</td>\n",
              "      <td>1</td>\n",
              "      <td>1</td>\n",
              "      <td>3</td>\n",
              "      <td>4</td>\n",
              "      <td>0</td>\n",
              "      <td>11</td>\n",
              "      <td>12</td>\n",
              "      <td>10</td>\n",
              "      <td>2</td>\n",
              "      <td>0.250000</td>\n",
              "    </tr>\n",
              "    <tr>\n",
              "      <th>394</th>\n",
              "      <td>1</td>\n",
              "      <td>1</td>\n",
              "      <td>19</td>\n",
              "      <td>0</td>\n",
              "      <td>1</td>\n",
              "      <td>0</td>\n",
              "      <td>1</td>\n",
              "      <td>3</td>\n",
              "      <td>3</td>\n",
              "      <td>3</td>\n",
              "      <td>5</td>\n",
              "      <td>8</td>\n",
              "      <td>9</td>\n",
              "      <td>9</td>\n",
              "      <td>2</td>\n",
              "      <td>0.500000</td>\n",
              "    </tr>\n",
              "  </tbody>\n",
              "</table>\n",
              "<p>395 rows × 16 columns</p>\n",
              "</div>\n",
              "      <button class=\"colab-df-convert\" onclick=\"convertToInteractive('df-5434c60c-13d7-4aa0-afcc-b21222696851')\"\n",
              "              title=\"Convert this dataframe to an interactive table.\"\n",
              "              style=\"display:none;\">\n",
              "        \n",
              "  <svg xmlns=\"http://www.w3.org/2000/svg\" height=\"24px\"viewBox=\"0 0 24 24\"\n",
              "       width=\"24px\">\n",
              "    <path d=\"M0 0h24v24H0V0z\" fill=\"none\"/>\n",
              "    <path d=\"M18.56 5.44l.94 2.06.94-2.06 2.06-.94-2.06-.94-.94-2.06-.94 2.06-2.06.94zm-11 1L8.5 8.5l.94-2.06 2.06-.94-2.06-.94L8.5 2.5l-.94 2.06-2.06.94zm10 10l.94 2.06.94-2.06 2.06-.94-2.06-.94-.94-2.06-.94 2.06-2.06.94z\"/><path d=\"M17.41 7.96l-1.37-1.37c-.4-.4-.92-.59-1.43-.59-.52 0-1.04.2-1.43.59L10.3 9.45l-7.72 7.72c-.78.78-.78 2.05 0 2.83L4 21.41c.39.39.9.59 1.41.59.51 0 1.02-.2 1.41-.59l7.78-7.78 2.81-2.81c.8-.78.8-2.07 0-2.86zM5.41 20L4 18.59l7.72-7.72 1.47 1.35L5.41 20z\"/>\n",
              "  </svg>\n",
              "      </button>\n",
              "      \n",
              "  <style>\n",
              "    .colab-df-container {\n",
              "      display:flex;\n",
              "      flex-wrap:wrap;\n",
              "      gap: 12px;\n",
              "    }\n",
              "\n",
              "    .colab-df-convert {\n",
              "      background-color: #E8F0FE;\n",
              "      border: none;\n",
              "      border-radius: 50%;\n",
              "      cursor: pointer;\n",
              "      display: none;\n",
              "      fill: #1967D2;\n",
              "      height: 32px;\n",
              "      padding: 0 0 0 0;\n",
              "      width: 32px;\n",
              "    }\n",
              "\n",
              "    .colab-df-convert:hover {\n",
              "      background-color: #E2EBFA;\n",
              "      box-shadow: 0px 1px 2px rgba(60, 64, 67, 0.3), 0px 1px 3px 1px rgba(60, 64, 67, 0.15);\n",
              "      fill: #174EA6;\n",
              "    }\n",
              "\n",
              "    [theme=dark] .colab-df-convert {\n",
              "      background-color: #3B4455;\n",
              "      fill: #D2E3FC;\n",
              "    }\n",
              "\n",
              "    [theme=dark] .colab-df-convert:hover {\n",
              "      background-color: #434B5C;\n",
              "      box-shadow: 0px 1px 3px 1px rgba(0, 0, 0, 0.15);\n",
              "      filter: drop-shadow(0px 1px 2px rgba(0, 0, 0, 0.3));\n",
              "      fill: #FFFFFF;\n",
              "    }\n",
              "  </style>\n",
              "\n",
              "      <script>\n",
              "        const buttonEl =\n",
              "          document.querySelector('#df-5434c60c-13d7-4aa0-afcc-b21222696851 button.colab-df-convert');\n",
              "        buttonEl.style.display =\n",
              "          google.colab.kernel.accessAllowed ? 'block' : 'none';\n",
              "\n",
              "        async function convertToInteractive(key) {\n",
              "          const element = document.querySelector('#df-5434c60c-13d7-4aa0-afcc-b21222696851');\n",
              "          const dataTable =\n",
              "            await google.colab.kernel.invokeFunction('convertToInteractive',\n",
              "                                                     [key], {});\n",
              "          if (!dataTable) return;\n",
              "\n",
              "          const docLinkHtml = 'Like what you see? Visit the ' +\n",
              "            '<a target=\"_blank\" href=https://colab.research.google.com/notebooks/data_table.ipynb>data table notebook</a>'\n",
              "            + ' to learn more about interactive tables.';\n",
              "          element.innerHTML = '';\n",
              "          dataTable['output_type'] = 'display_data';\n",
              "          await google.colab.output.renderOutput(dataTable, element);\n",
              "          const docLink = document.createElement('div');\n",
              "          docLink.innerHTML = docLinkHtml;\n",
              "          element.appendChild(docLink);\n",
              "        }\n",
              "      </script>\n",
              "    </div>\n",
              "  </div>\n",
              "  "
            ]
          },
          "metadata": {},
          "execution_count": 307
        }
      ]
    },
    {
      "cell_type": "markdown",
      "source": [
        "#Pregunta:\n",
        "\n",
        "¿Cuál será el rendimiento de un alumno en la nota final? ¿Hay  relación del consumo de alcohol de los estudiantes con su rendimiento académico?"
      ],
      "metadata": {
        "id": "2bSxSdiNYC6Q"
      },
      "id": "2bSxSdiNYC6Q"
    },
    {
      "cell_type": "markdown",
      "source": [
        "# Importar librerías"
      ],
      "metadata": {
        "id": "SLVyLzw5sHko"
      },
      "id": "SLVyLzw5sHko"
    },
    {
      "cell_type": "code",
      "source": [
        "from sklearn.model_selection import train_test_split\n",
        "from sklearn.tree import DecisionTreeClassifier\n",
        "from sklearn import tree\n",
        "from sklearn.ensemble import RandomForestClassifier\n",
        "from sklearn.cluster import KMeans\n",
        "from sklearn.datasets import make_blobs\n",
        "from sklearn.metrics import mean_squared_error\n",
        "from sklearn.metrics import mean_absolute_error"
      ],
      "metadata": {
        "id": "-vAxLEiCsG6s"
      },
      "id": "-vAxLEiCsG6s",
      "execution_count": null,
      "outputs": []
    },
    {
      "cell_type": "markdown",
      "source": [
        "# Primera matríz"
      ],
      "metadata": {
        "id": "TBkM_nBeSj9z"
      },
      "id": "TBkM_nBeSj9z"
    },
    {
      "cell_type": "markdown",
      "source": [
        "Definir X e Y"
      ],
      "metadata": {
        "id": "X0Ab0Yn3qxTJ"
      },
      "id": "X0Ab0Yn3qxTJ"
    },
    {
      "cell_type": "code",
      "source": [
        "caracteristicas = [\"Escuela\", \"Sexo\", \"Edad\", \"Zona\", \"Familia\", \"Repruebos\", \"Clases part.\", \"t fuera\", \"Alc s\", \"Alc fds\", \"Ausencias\", \"N1\", \"N2\", \"Apoyo adicional\", \"Eficiencia\"]"
      ],
      "metadata": {
        "id": "BBKt3z-kq0Uj"
      },
      "execution_count": null,
      "outputs": [],
      "id": "BBKt3z-kq0Uj"
    },
    {
      "cell_type": "code",
      "source": [
        "X = MC.loc[:,caracteristicas].to_numpy()"
      ],
      "metadata": {
        "id": "DuNvOGa2rX5k"
      },
      "execution_count": null,
      "outputs": [],
      "id": "DuNvOGa2rX5k"
    },
    {
      "cell_type": "code",
      "source": [
        "etiqueta = ['NF']\n",
        "Y = MC.loc[:,etiqueta].to_numpy()"
      ],
      "metadata": {
        "id": "nbCumOjPrlhv"
      },
      "execution_count": null,
      "outputs": [],
      "id": "nbCumOjPrlhv"
    },
    {
      "cell_type": "markdown",
      "source": [],
      "metadata": {
        "id": "XUMMrTvkSvso"
      },
      "id": "XUMMrTvkSvso"
    },
    {
      "cell_type": "markdown",
      "source": [
        "## Árbol de desición\n"
      ],
      "metadata": {
        "id": "PxwVME8isQ1a"
      },
      "id": "PxwVME8isQ1a"
    },
    {
      "cell_type": "code",
      "source": [
        "#separar datos\n",
        "X_train, X_test, y_train, y_test = train_test_split(X, Y, test_size=0.25)"
      ],
      "metadata": {
        "id": "INEwarCpsXzP"
      },
      "id": "INEwarCpsXzP",
      "execution_count": null,
      "outputs": []
    },
    {
      "cell_type": "code",
      "source": [
        "#crear\n",
        "ad = DecisionTreeClassifier(max_depth = 6)\n",
        "#entrenar\n",
        "ad.fit(X_train, y_train)\n",
        "#predicción\n",
        "Y_pred = ad.predict(X_test)"
      ],
      "metadata": {
        "id": "WTcD-5MmslAw"
      },
      "id": "WTcD-5MmslAw",
      "execution_count": null,
      "outputs": []
    },
    {
      "cell_type": "code",
      "source": [
        "with open(\"mi_arbol1.dot\", 'w') as archivo_dot:\n",
        "    tree.export_graphviz(ad, out_file = archivo_dot, filled=True, rounded=True, special_characters=False, impurity=False, feature_names=caracteristicas)"
      ],
      "metadata": {
        "id": "IlFww4IetRA-"
      },
      "id": "IlFww4IetRA-",
      "execution_count": null,
      "outputs": []
    },
    {
      "cell_type": "code",
      "source": [
        "!dot -Tjpeg mi_arbol1.dot -o arbol_decision1.png"
      ],
      "metadata": {
        "id": "Zm2gWCHFtcfs"
      },
      "id": "Zm2gWCHFtcfs",
      "execution_count": null,
      "outputs": []
    },
    {
      "cell_type": "markdown",
      "source": [
        "Metricas de regresión"
      ],
      "metadata": {
        "id": "hoSM4LV9N89m"
      },
      "id": "hoSM4LV9N89m"
    },
    {
      "cell_type": "code",
      "source": [
        "MSE = mean_squared_error(y_test, Y_pred)\n",
        "print(\"MSE: \" + str(MSE))\n",
        "RMSE = MSE**0.5\n",
        "print(\"RMSE: \" + str(RMSE))\n",
        "MAE = mean_absolute_error(y_test, Y_pred)\n",
        "print(\"MAE: \" + str(MAE))\n",
        "MAPE = np.mean(np.abs((y_test - Y_pred) / y_test)) * 100\n",
        "print(\"MAPE: \" + str(MAPE))"
      ],
      "metadata": {
        "colab": {
          "base_uri": "https://localhost:8080/"
        },
        "id": "HSpcHXnrOUA3",
        "outputId": "34b06a70-f578-49a2-8762-a1c491e99db9"
      },
      "id": "HSpcHXnrOUA3",
      "execution_count": null,
      "outputs": [
        {
          "output_type": "stream",
          "name": "stdout",
          "text": [
            "MSE: 4.424242424242424\n",
            "RMSE: 2.1033883198882757\n",
            "MAE: 1.0909090909090908\n",
            "MAPE: nan\n"
          ]
        }
      ]
    },
    {
      "cell_type": "markdown",
      "source": [
        "## Random forest"
      ],
      "metadata": {
        "id": "GYGveJyqRE2e"
      },
      "id": "GYGveJyqRE2e"
    },
    {
      "cell_type": "code",
      "source": [
        "#separar datos\n",
        "X2_train, X2_test, y2_train, y2_test = train_test_split(X, Y, test_size=0.25)"
      ],
      "metadata": {
        "id": "HT7JM3zbcfhI"
      },
      "id": "HT7JM3zbcfhI",
      "execution_count": null,
      "outputs": []
    },
    {
      "cell_type": "code",
      "source": [
        "#crear\n",
        "rf = RandomForestClassifier()\n",
        "#ajustar\n",
        "rf.fit(X, Y)\n",
        "# verificando la precisión\n",
        "print(\"precisión del modelo: {0: .2f}\".format((Y == rf.predict(X)).mean()))\n",
        "Y2_pred = ad.predict(X2_test)"
      ],
      "metadata": {
        "colab": {
          "base_uri": "https://localhost:8080/"
        },
        "id": "ZG3itvEgQ-Tw",
        "outputId": "6f09e3a7-708a-406f-8e41-86a1a6ed802b"
      },
      "id": "ZG3itvEgQ-Tw",
      "execution_count": null,
      "outputs": [
        {
          "output_type": "stream",
          "name": "stdout",
          "text": [
            "precisión del modelo:  0.08\n"
          ]
        }
      ]
    },
    {
      "cell_type": "code",
      "source": [
        "MSE = mean_squared_error(y2_test, Y2_pred)\n",
        "print(\"MSE: \" + str(MSE))\n",
        "RMSE = MSE**0.5\n",
        "print(\"RMSE: \" + str(RMSE))\n",
        "MAE = mean_absolute_error(y2_test, Y2_pred)\n",
        "print(\"MAE: \" + str(MAE))\n",
        "MAPE = np.mean(np.abs((y2_test - Y2_pred) / y2_test)) * 100\n",
        "print(\"MAPE: \" + str(MAPE))"
      ],
      "metadata": {
        "colab": {
          "base_uri": "https://localhost:8080/"
        },
        "id": "40jI7_2iR2r3",
        "outputId": "4b529e72-f908-4d1c-83e5-ec259fe38d56"
      },
      "id": "40jI7_2iR2r3",
      "execution_count": null,
      "outputs": [
        {
          "output_type": "stream",
          "name": "stdout",
          "text": [
            "MSE: 0.6767676767676768\n",
            "RMSE: 0.8226589066968623\n",
            "MAE: 0.41414141414141414\n",
            "MAPE: nan\n"
          ]
        }
      ]
    },
    {
      "cell_type": "markdown",
      "source": [
        "# Validación cruzada"
      ],
      "metadata": {
        "id": "7B1dPbX1M_GU"
      },
      "id": "7B1dPbX1M_GU"
    },
    {
      "cell_type": "code",
      "execution_count": null,
      "metadata": {
        "id": "BioycAG2zIpt"
      },
      "outputs": [],
      "source": [
        "import numpy as np\n",
        "from sklearn import datasets\n",
        "import warnings\n",
        "warnings.simplefilter('ignore')"
      ],
      "id": "BioycAG2zIpt"
    },
    {
      "cell_type": "code",
      "execution_count": null,
      "metadata": {
        "id": "OVvNUS5tzIp9"
      },
      "outputs": [],
      "source": [
        "from sklearn.model_selection import cross_val_score"
      ],
      "id": "OVvNUS5tzIp9"
    },
    {
      "cell_type": "code",
      "execution_count": null,
      "metadata": {
        "id": "rRo_tnxJzIp-"
      },
      "outputs": [],
      "source": [
        "from sklearn.tree import DecisionTreeRegressor\n",
        "from sklearn.ensemble import RandomForestRegressor"
      ],
      "id": "rRo_tnxJzIp-"
    },
    {
      "cell_type": "code",
      "execution_count": null,
      "metadata": {
        "id": "6zQpUXJVzIqA"
      },
      "outputs": [],
      "source": [
        "ad_cv = cross_val_score(DecisionTreeRegressor(), X, Y, cv=10, scoring='neg_mean_absolute_error')"
      ],
      "id": "6zQpUXJVzIqA"
    },
    {
      "cell_type": "code",
      "execution_count": null,
      "metadata": {
        "id": "2CVC9a3VzIqA",
        "outputId": "301065ad-29b8-4a95-f3ab-e72c3a2e2859",
        "colab": {
          "base_uri": "https://localhost:8080/"
        }
      },
      "outputs": [
        {
          "output_type": "execute_result",
          "data": {
            "text/plain": [
              "array([-0.85      , -1.075     , -1.025     , -1.775     , -1.2       ,\n",
              "       -0.66666667, -1.05128205, -0.74358974, -1.41025641, -0.76923077])"
            ]
          },
          "metadata": {},
          "execution_count": 324
        }
      ],
      "source": [
        "ad_cv"
      ],
      "id": "2CVC9a3VzIqA"
    },
    {
      "cell_type": "code",
      "execution_count": null,
      "metadata": {
        "id": "hEMNLkDszIqC",
        "outputId": "ca616a22-e269-413e-9389-6fda6fb71a42",
        "colab": {
          "base_uri": "https://localhost:8080/"
        }
      },
      "outputs": [
        {
          "output_type": "execute_result",
          "data": {
            "text/plain": [
              "1.056602564102564"
            ]
          },
          "metadata": {},
          "execution_count": 325
        }
      ],
      "source": [
        "np.mean(-1*ad_cv)"
      ],
      "id": "hEMNLkDszIqC"
    },
    {
      "cell_type": "code",
      "execution_count": null,
      "metadata": {
        "id": "uCVy_X4KzIqD"
      },
      "outputs": [],
      "source": [
        "rf_cv = cross_val_score(RandomForestRegressor(), X, Y, cv=10, scoring='neg_mean_absolute_error')"
      ],
      "id": "uCVy_X4KzIqD"
    },
    {
      "cell_type": "code",
      "execution_count": null,
      "metadata": {
        "id": "arrAeY1MzIqE",
        "outputId": "fa1d8a4b-4848-4939-b966-c37273cc1562",
        "colab": {
          "base_uri": "https://localhost:8080/"
        }
      },
      "outputs": [
        {
          "output_type": "execute_result",
          "data": {
            "text/plain": [
              "1.0123307692307693"
            ]
          },
          "metadata": {},
          "execution_count": 327
        }
      ],
      "source": [
        "np.mean(-1*rf_cv)"
      ],
      "id": "arrAeY1MzIqE"
    },
    {
      "cell_type": "code",
      "execution_count": null,
      "metadata": {
        "id": "iXOJGrWtzIqF"
      },
      "outputs": [],
      "source": [
        "from sklearn.ensemble import AdaBoostRegressor, GradientBoostingRegressor\n",
        "from sklearn.svm import SVR\n",
        "from sklearn.linear_model import SGDRegressor\n",
        "from sklearn.kernel_ridge import KernelRidge\n",
        "from sklearn.linear_model import ElasticNet\n",
        "from sklearn.linear_model import BayesianRidge"
      ],
      "id": "iXOJGrWtzIqF"
    },
    {
      "cell_type": "code",
      "execution_count": null,
      "metadata": {
        "id": "80raDviyzIqG"
      },
      "outputs": [],
      "source": [
        "ad_cv = cross_val_score(DecisionTreeRegressor(), X, Y, cv=10, scoring='neg_mean_absolute_error')\n",
        "rf_cv = cross_val_score(RandomForestRegressor(), X, Y, cv=10, scoring='neg_mean_absolute_error')\n",
        "ab_cv = cross_val_score(AdaBoostRegressor(), X, Y, cv=10, scoring='neg_mean_absolute_error')\n",
        "gb_cv = cross_val_score(GradientBoostingRegressor(), X, Y, cv=10, scoring='neg_mean_absolute_error')\n",
        "svr_cv = cross_val_score(SVR(), X, Y, cv=10, scoring='neg_mean_absolute_error')\n",
        "sgd_cv = cross_val_score(SGDRegressor(), X, Y, cv=10, scoring='neg_mean_absolute_error')\n",
        "kr_cv = cross_val_score(KernelRidge(), X, Y, cv=10, scoring='neg_mean_absolute_error')\n",
        "en_cv = cross_val_score(ElasticNet(), X, Y, cv=10, scoring='neg_mean_absolute_error')\n",
        "br_cv = cross_val_score(BayesianRidge(), X, Y, cv=10, scoring='neg_mean_absolute_error')"
      ],
      "id": "80raDviyzIqG"
    },
    {
      "cell_type": "code",
      "execution_count": null,
      "metadata": {
        "id": "sI8vOJ6czIqI",
        "outputId": "a535869a-16f7-42a9-b063-7c22da27d9d8",
        "colab": {
          "base_uri": "https://localhost:8080/"
        }
      },
      "outputs": [
        {
          "output_type": "stream",
          "name": "stdout",
          "text": [
            "AD: 1.11\n",
            "RF: 1.03\n",
            "AB: 1.25\n",
            "GB: 1.15\n",
            "SVR: 1.23\n",
            "SGD: 101959517.28\n",
            "KR: 1.25\n",
            "EN: 1.14\n",
            "BR: 1.22\n"
          ]
        }
      ],
      "source": [
        "print(\"AD: \" + str(np.round(np.mean(-1*ad_cv),2)))\n",
        "print(\"RF: \" + str(np.round(np.mean(-1*rf_cv),2)))\n",
        "print(\"AB: \" + str(np.round(np.mean(-1*ab_cv),2)))\n",
        "print(\"GB: \" + str(np.round(np.mean(-1*gb_cv),2)))\n",
        "print(\"SVR: \" + str(np.round(np.mean(-1*svr_cv),2)))\n",
        "print(\"SGD: \" + str(np.round(np.mean(-1*sgd_cv),2)))\n",
        "print(\"KR: \" + str(np.round(np.mean(-1*kr_cv),2)))\n",
        "print(\"EN: \" + str(np.round(np.mean(-1*en_cv),2)))\n",
        "print(\"BR: \" + str(np.round(np.mean(-1*br_cv),2)))"
      ],
      "id": "sI8vOJ6czIqI"
    },
    {
      "cell_type": "code",
      "execution_count": null,
      "metadata": {
        "id": "Ng9vI5HSzIqJ"
      },
      "outputs": [],
      "source": [
        "from sklearn.model_selection import train_test_split\n",
        "X_train, X_test, y_train, y_test = train_test_split(X, Y, test_size=0.25)\n",
        "\n",
        "# Random Forest\n",
        "modelo1 = RandomForestRegressor()\n",
        "modelo1.fit(X_train, y_train)\n",
        "modelo1_y_pred = modelo1.predict(X_test)\n",
        "\n",
        "# DesicionTree\n",
        "modelo2 = DecisionTreeRegressor()\n",
        "modelo2.fit(X_train, y_train)\n",
        "modelo2_y_pred = modelo2.predict(X_test)\n",
        "\n",
        "# Gradient Boosting\n",
        "modelo3 = GradientBoostingRegressor()\n",
        "modelo3.fit(X_train, y_train)\n",
        "modelo3_y_pred = modelo3.predict(X_test)"
      ],
      "id": "Ng9vI5HSzIqJ"
    },
    {
      "cell_type": "code",
      "execution_count": null,
      "metadata": {
        "id": "mvJZjVO6zIqK"
      },
      "outputs": [],
      "source": [
        "preds = [np.mean([p1, p2, p3]) for (p1, p2, p3) in zip(modelo1_y_pred, modelo2_y_pred, modelo3_y_pred)]\n",
        "preds_ensamble = preds"
      ],
      "id": "mvJZjVO6zIqK"
    },
    {
      "cell_type": "code",
      "execution_count": null,
      "metadata": {
        "id": "q30MF1pBzIqL",
        "outputId": "337b698b-199b-474f-c1e9-17ecf0974e24",
        "colab": {
          "base_uri": "https://localhost:8080/"
        }
      },
      "outputs": [
        {
          "output_type": "stream",
          "name": "stdout",
          "text": [
            "Random Forest:\n",
            "  MSE             : 1.52\n",
            "  RMSE            : 1.23\n",
            "  MAE             : 0.88\n",
            "  MAPE            : inf\n",
            "Desicion Tree:\n",
            "  MSE             : 1.52\n",
            "  RMSE            : 1.23\n",
            "  MAE             : 0.85\n",
            "  MAPE            : nan\n",
            "Gradient Boosting:\n",
            "  MSE             : 1.9\n",
            "  RMSE            : 1.38\n",
            "  MAE             : 0.96\n",
            "  MAPE            : inf\n",
            "-----------------------------\n",
            "Modelo Ensamble:\n",
            "  MSE             : 1.23\n",
            "  RMSE            : 1.11\n",
            "  MAE             : 0.81\n",
            "  MAPE            : inf\n"
          ]
        }
      ],
      "source": [
        "from sklearn.metrics import mean_squared_error, mean_absolute_error\n",
        "\n",
        "print(\"Random Forest:\")\n",
        "print(f\"  MSE             : {round(mean_squared_error(y_test, modelo1_y_pred), 2)}\")\n",
        "print(f\"  RMSE            : {round((mean_squared_error(y_test, modelo1_y_pred)**0.5), 2)}\")\n",
        "print(f\"  MAE             : {round(mean_absolute_error(y_test, modelo1_y_pred), 2)}\")\n",
        "print(f\"  MAPE            : {round(np.mean(np.abs((y_test - modelo1_y_pred) / y_test)) * 100, 2)}\")\n",
        "\n",
        "print(\"Desicion Tree:\")\n",
        "print(f\"  MSE             : {round(mean_squared_error(y_test, modelo2_y_pred), 2)}\")\n",
        "print(f\"  RMSE            : {round((mean_squared_error(y_test, modelo2_y_pred)**0.5), 2)}\")\n",
        "print(f\"  MAE             : {round(mean_absolute_error(y_test, modelo2_y_pred), 2)}\")\n",
        "print(f\"  MAPE            : {round(np.mean(np.abs((y_test - modelo2_y_pred) / y_test)) * 100, 2)}\")\n",
        "\n",
        "print(\"Gradient Boosting:\")\n",
        "print(f\"  MSE             : {round(mean_squared_error(y_test, modelo3_y_pred), 2)}\")\n",
        "print(f\"  RMSE            : {round((mean_squared_error(y_test, modelo3_y_pred)**0.5), 2)}\")\n",
        "print(f\"  MAE             : {round(mean_absolute_error(y_test, modelo3_y_pred), 2)}\")\n",
        "print(f\"  MAPE            : {round(np.mean(np.abs((y_test - modelo3_y_pred) / y_test)) * 100, 2)}\")\n",
        "\n",
        "print(\"-----------------------------\")\n",
        "\n",
        "print(\"Modelo Ensamble:\")\n",
        "print(f\"  MSE             : {round(mean_squared_error(y_test, preds_ensamble), 2)}\")\n",
        "print(f\"  RMSE            : {round((mean_squared_error(y_test, preds_ensamble)**0.5), 2)}\")\n",
        "print(f\"  MAE             : {round(mean_absolute_error(y_test, preds_ensamble), 2)}\")\n",
        "print(f\"  MAPE            : {round(np.mean(np.abs((y_test - preds_ensamble) / y_test)) * 100, 2)}\")"
      ],
      "id": "q30MF1pBzIqL"
    },
    {
      "cell_type": "markdown",
      "source": [
        "# Segunda matríz"
      ],
      "metadata": {
        "id": "Yo-eIX3dNvzO"
      },
      "id": "Yo-eIX3dNvzO"
    },
    {
      "cell_type": "markdown",
      "source": [
        "Matriz de características sin datos de consumo de alcohol"
      ],
      "metadata": {
        "id": "PoMcKqm_RskF"
      },
      "id": "PoMcKqm_RskF"
    },
    {
      "cell_type": "code",
      "source": [
        "caracteristicas = [\"Escuela\", \"Sexo\", \"Edad\", \"Zona\", \"Familia\", \"Repruebos\", \"Clases part.\", \"t fuera\", \"Ausencias\", \"N1\", \"N2\", \"Apoyo adicional\", \"Eficiencia\"]"
      ],
      "metadata": {
        "id": "zga45PVJbfrR"
      },
      "id": "zga45PVJbfrR",
      "execution_count": null,
      "outputs": []
    },
    {
      "cell_type": "code",
      "source": [
        "X = MC.loc[:,caracteristicas].to_numpy()"
      ],
      "metadata": {
        "id": "zyT7ppa8PWbI"
      },
      "execution_count": null,
      "outputs": [],
      "id": "zyT7ppa8PWbI"
    },
    {
      "cell_type": "code",
      "source": [
        "etiqueta = ['NF']\n",
        "Y = MC.loc[:,etiqueta].to_numpy()"
      ],
      "metadata": {
        "id": "vUVUDIphPWbJ"
      },
      "execution_count": null,
      "outputs": [],
      "id": "vUVUDIphPWbJ"
    },
    {
      "cell_type": "markdown",
      "source": [
        "## Árbol de desición"
      ],
      "metadata": {
        "id": "kDNfAzGUPuXd"
      },
      "id": "kDNfAzGUPuXd"
    },
    {
      "cell_type": "code",
      "source": [
        "#separar datos\n",
        "X_train, X_test, y_train, y_test = train_test_split(X, Y, test_size=0.25)"
      ],
      "metadata": {
        "id": "QC-HgroMPWbJ"
      },
      "execution_count": null,
      "outputs": [],
      "id": "QC-HgroMPWbJ"
    },
    {
      "cell_type": "code",
      "source": [
        "#crear\n",
        "ad = DecisionTreeClassifier(max_depth = 6)\n",
        "#entrenar\n",
        "ad.fit(X_train, y_train)\n",
        "#predicción\n",
        "Y_pred = ad.predict(X_test)"
      ],
      "metadata": {
        "id": "WuVFFXtdPWbK"
      },
      "execution_count": null,
      "outputs": [],
      "id": "WuVFFXtdPWbK"
    },
    {
      "cell_type": "code",
      "source": [
        "with open(\"mi_arbol2.dot\", 'w') as archivo_dot:\n",
        "    tree.export_graphviz(ad, out_file = archivo_dot, filled=True, rounded=True, special_characters=False, impurity=False, feature_names=caracteristicas)"
      ],
      "metadata": {
        "id": "ezwJIjy1PWbK"
      },
      "execution_count": null,
      "outputs": [],
      "id": "ezwJIjy1PWbK"
    },
    {
      "cell_type": "code",
      "source": [
        "!dot -Tjpeg mi_arbol2.dot -o arbol_decision2.png"
      ],
      "metadata": {
        "id": "Cp6YfP59PWbL"
      },
      "execution_count": null,
      "outputs": [],
      "id": "Cp6YfP59PWbL"
    },
    {
      "cell_type": "code",
      "source": [
        "MSE = mean_squared_error(y_test, Y_pred)\n",
        "print(\"MSE: \" + str(MSE))\n",
        "RMSE = MSE**0.5\n",
        "print(\"RMSE: \" + str(RMSE))\n",
        "MAE = mean_absolute_error(y_test, Y_pred)\n",
        "print(\"MAE: \" + str(MAE))\n",
        "MAPE = np.mean(np.abs((y_test - Y_pred) / y_test)) * 100\n",
        "print(\"MAPE: \" + str(MAPE))"
      ],
      "metadata": {
        "colab": {
          "base_uri": "https://localhost:8080/"
        },
        "outputId": "49cf8f44-6ef9-4350-d3f0-d749f08f4593",
        "id": "iws76YoPPWbL"
      },
      "execution_count": null,
      "outputs": [
        {
          "output_type": "stream",
          "name": "stdout",
          "text": [
            "MSE: 5.929292929292929\n",
            "RMSE: 2.435013948480158\n",
            "MAE: 1.1818181818181819\n",
            "MAPE: nan\n"
          ]
        }
      ],
      "id": "iws76YoPPWbL"
    },
    {
      "cell_type": "markdown",
      "source": [
        "## Random forest"
      ],
      "metadata": {
        "id": "KxnXiT8lPyiQ"
      },
      "id": "KxnXiT8lPyiQ"
    },
    {
      "cell_type": "code",
      "source": [
        "#separar datos\n",
        "X2_train, X2_test, y2_train, y2_test = train_test_split(X, Y, test_size=0.25)"
      ],
      "metadata": {
        "id": "jLFxrCerPWbM"
      },
      "execution_count": null,
      "outputs": [],
      "id": "jLFxrCerPWbM"
    },
    {
      "cell_type": "code",
      "source": [
        "#crear\n",
        "rf = RandomForestClassifier()\n",
        "#ajustar\n",
        "rf.fit(X, Y)\n",
        "# verificando la precisión\n",
        "print(\"precisión del modelo: {0: .2f}\".format((Y == rf.predict(X)).mean()))\n",
        "Y2_pred = ad.predict(X2_test)"
      ],
      "metadata": {
        "colab": {
          "base_uri": "https://localhost:8080/"
        },
        "outputId": "753d7428-9f84-4ba5-d466-04cfc891b69a",
        "id": "DGFZbqJdPWbN"
      },
      "execution_count": null,
      "outputs": [
        {
          "output_type": "stream",
          "name": "stdout",
          "text": [
            "precisión del modelo:  0.08\n"
          ]
        }
      ],
      "id": "DGFZbqJdPWbN"
    },
    {
      "cell_type": "code",
      "source": [
        "MSE = mean_squared_error(y2_test, Y2_pred)\n",
        "print(\"MSE: \" + str(MSE))\n",
        "RMSE = MSE**0.5\n",
        "print(\"RMSE: \" + str(RMSE))\n",
        "MAE = mean_absolute_error(y2_test, Y2_pred)\n",
        "print(\"MAE: \" + str(MAE))\n",
        "MAPE = np.mean(np.abs((y2_test - Y2_pred) / y2_test)) * 100\n",
        "print(\"MAPE: \" + str(MAPE))"
      ],
      "metadata": {
        "colab": {
          "base_uri": "https://localhost:8080/"
        },
        "outputId": "31df8e65-e668-49c8-8883-20d74a4152c2",
        "id": "9iiLoVW5PWbN"
      },
      "execution_count": null,
      "outputs": [
        {
          "output_type": "stream",
          "name": "stdout",
          "text": [
            "MSE: 1.9292929292929293\n",
            "RMSE: 1.3889898953170716\n",
            "MAE: 0.5757575757575758\n",
            "MAPE: nan\n"
          ]
        }
      ],
      "id": "9iiLoVW5PWbN"
    },
    {
      "cell_type": "markdown",
      "source": [
        "# Tercera matríz"
      ],
      "metadata": {
        "id": "UbiYqQFXQtPI"
      },
      "id": "UbiYqQFXQtPI"
    },
    {
      "cell_type": "markdown",
      "source": [
        "Solo datos escolares (además de la llave)\n",
        "\n",
        "La mejor según la métrica del árbol de desición"
      ],
      "metadata": {
        "id": "BVMJr6f7Q6t7"
      },
      "id": "BVMJr6f7Q6t7"
    },
    {
      "cell_type": "code",
      "source": [
        "caracteristicas = [\"Escuela\", \"Sexo\", \"Edad\", \"Zona\", \"Repruebos\", \"Clases part.\", \"Ausencias\", \"N1\", \"N2\", \"Apoyo adicional\", \"Eficiencia\"]"
      ],
      "metadata": {
        "id": "SmSuI-IVQwvZ"
      },
      "execution_count": null,
      "outputs": [],
      "id": "SmSuI-IVQwvZ"
    },
    {
      "cell_type": "code",
      "source": [
        "X = MC.loc[:,caracteristicas].to_numpy()"
      ],
      "metadata": {
        "id": "3oKh57jhQwvb"
      },
      "execution_count": null,
      "outputs": [],
      "id": "3oKh57jhQwvb"
    },
    {
      "cell_type": "code",
      "source": [
        "etiqueta = ['NF']\n",
        "Y = MC.loc[:,etiqueta].to_numpy()"
      ],
      "metadata": {
        "id": "UJjl3TYPQwvb"
      },
      "execution_count": null,
      "outputs": [],
      "id": "UJjl3TYPQwvb"
    },
    {
      "cell_type": "markdown",
      "source": [
        "## Árbol de desición"
      ],
      "metadata": {
        "id": "-d6JNCvFRIMH"
      },
      "id": "-d6JNCvFRIMH"
    },
    {
      "cell_type": "code",
      "source": [
        "#separar datos\n",
        "X_train, X_test, y_train, y_test = train_test_split(X, Y, test_size=0.25)"
      ],
      "metadata": {
        "id": "g0IHJVGdQwvc"
      },
      "execution_count": null,
      "outputs": [],
      "id": "g0IHJVGdQwvc"
    },
    {
      "cell_type": "code",
      "source": [
        "#crear\n",
        "ad = DecisionTreeClassifier(max_depth = 6)\n",
        "#entrenar\n",
        "ad.fit(X_train, y_train)\n",
        "#predicción\n",
        "Y_pred = ad.predict(X_test)"
      ],
      "metadata": {
        "id": "yTuNOErXQwvc"
      },
      "execution_count": null,
      "outputs": [],
      "id": "yTuNOErXQwvc"
    },
    {
      "cell_type": "code",
      "source": [
        "with open(\"mi_arbol3.dot\", 'w') as archivo_dot:\n",
        "    tree.export_graphviz(ad, out_file = archivo_dot, filled=True, rounded=True, special_characters=False, impurity=False, feature_names=caracteristicas)"
      ],
      "metadata": {
        "id": "gHEs1GqMQwvd"
      },
      "execution_count": null,
      "outputs": [],
      "id": "gHEs1GqMQwvd"
    },
    {
      "cell_type": "code",
      "source": [
        "!dot -Tjpeg mi_arbol3.dot -o arbol_decision3.png"
      ],
      "metadata": {
        "id": "1TEu1nstQwvd"
      },
      "execution_count": null,
      "outputs": [],
      "id": "1TEu1nstQwvd"
    },
    {
      "cell_type": "code",
      "source": [
        "MSE = mean_squared_error(y_test, Y_pred)\n",
        "print(\"MSE: \" + str(MSE))\n",
        "RMSE = MSE**0.5\n",
        "print(\"RMSE: \" + str(RMSE))\n",
        "MAE = mean_absolute_error(y_test, Y_pred)\n",
        "print(\"MAE: \" + str(MAE))\n",
        "MAPE = np.mean(np.abs((y_test - Y_pred) / y_test)) * 100\n",
        "print(\"MAPE: \" + str(MAPE))"
      ],
      "metadata": {
        "id": "qNEmoxRcQwve",
        "colab": {
          "base_uri": "https://localhost:8080/"
        },
        "outputId": "503dda20-74fa-47e3-b2bd-a7b4bb8cb157"
      },
      "execution_count": null,
      "outputs": [
        {
          "output_type": "stream",
          "name": "stdout",
          "text": [
            "MSE: 2.3434343434343434\n",
            "RMSE: 1.5308279927654653\n",
            "MAE: 0.8080808080808081\n",
            "MAPE: nan\n"
          ]
        }
      ],
      "id": "qNEmoxRcQwve"
    },
    {
      "cell_type": "markdown",
      "source": [
        "## Random forest"
      ],
      "metadata": {
        "id": "HYJQPnWLRKtE"
      },
      "id": "HYJQPnWLRKtE"
    },
    {
      "cell_type": "code",
      "source": [
        "#separar datos\n",
        "X2_train, X2_test, y2_train, y2_test = train_test_split(X, Y, test_size=0.25)"
      ],
      "metadata": {
        "id": "qPINbeV_Qwvf"
      },
      "execution_count": null,
      "outputs": [],
      "id": "qPINbeV_Qwvf"
    },
    {
      "cell_type": "code",
      "source": [
        "#crear\n",
        "rf = RandomForestClassifier()\n",
        "#ajustar\n",
        "rf.fit(X, Y)\n",
        "# verificando la precisión\n",
        "print(\"precisión del modelo: {0: .2f}\".format((Y == rf.predict(X)).mean()))\n",
        "Y2_pred = ad.predict(X2_test)"
      ],
      "metadata": {
        "id": "kYhwICx3Qwvf",
        "colab": {
          "base_uri": "https://localhost:8080/"
        },
        "outputId": "cb61937e-8dd4-49d8-bea6-0fd3008ed4f7"
      },
      "execution_count": null,
      "outputs": [
        {
          "output_type": "stream",
          "name": "stdout",
          "text": [
            "precisión del modelo:  0.08\n"
          ]
        }
      ],
      "id": "kYhwICx3Qwvf"
    },
    {
      "cell_type": "code",
      "source": [
        "MSE = mean_squared_error(y2_test, Y2_pred)\n",
        "print(\"MSE: \" + str(MSE))\n",
        "RMSE = MSE**0.5\n",
        "print(\"RMSE: \" + str(RMSE))\n",
        "MAE = mean_absolute_error(y2_test, Y2_pred)\n",
        "print(\"MAE: \" + str(MAE))\n",
        "MAPE = np.mean(np.abs((y2_test - Y2_pred) / y2_test)) * 100\n",
        "print(\"MAPE: \" + str(MAPE))"
      ],
      "metadata": {
        "id": "thpvgacfQwvg",
        "colab": {
          "base_uri": "https://localhost:8080/"
        },
        "outputId": "02ab5a11-4cf4-40e1-b919-7fe790707b86"
      },
      "execution_count": null,
      "outputs": [
        {
          "output_type": "stream",
          "name": "stdout",
          "text": [
            "MSE: 2.606060606060606\n",
            "RMSE: 1.6143297699232972\n",
            "MAE: 0.7070707070707071\n",
            "MAPE: nan\n"
          ]
        }
      ],
      "id": "thpvgacfQwvg"
    },
    {
      "cell_type": "markdown",
      "source": [
        "# Cuarta matríz"
      ],
      "metadata": {
        "id": "n7rPm5SwXH4T"
      },
      "id": "n7rPm5SwXH4T"
    },
    {
      "cell_type": "markdown",
      "source": [
        "Solo con la llave y el consumo de alcohol.\n",
        "\n",
        "La métrica de ambos modelos se dispara, por lo que la relación es ambigua y no podemos concluir causalidad."
      ],
      "metadata": {
        "id": "Gefdcsg0XkI6"
      },
      "id": "Gefdcsg0XkI6"
    },
    {
      "cell_type": "code",
      "source": [
        "caracteristicas = [\"Escuela\", \"Sexo\", \"Edad\", \"Zona\", \"Alc s\", \"Alc fds\"]"
      ],
      "metadata": {
        "id": "hdl_kqRpXOYf"
      },
      "execution_count": null,
      "outputs": [],
      "id": "hdl_kqRpXOYf"
    },
    {
      "cell_type": "code",
      "source": [
        "X = MC.loc[:,caracteristicas].to_numpy()"
      ],
      "metadata": {
        "id": "uK_zsRszXOYg"
      },
      "execution_count": null,
      "outputs": [],
      "id": "uK_zsRszXOYg"
    },
    {
      "cell_type": "code",
      "source": [
        "etiqueta = ['NF']\n",
        "Y = MC.loc[:,etiqueta].to_numpy()"
      ],
      "metadata": {
        "id": "PGKCDXVeXOYh"
      },
      "execution_count": null,
      "outputs": [],
      "id": "PGKCDXVeXOYh"
    },
    {
      "cell_type": "markdown",
      "source": [
        "## Árbol de desición"
      ],
      "metadata": {
        "id": "spdEvIuuXOYi"
      },
      "id": "spdEvIuuXOYi"
    },
    {
      "cell_type": "code",
      "source": [
        "#separar datos\n",
        "X_train, X_test, y_train, y_test = train_test_split(X, Y, test_size=0.25)"
      ],
      "metadata": {
        "id": "7-auqTXcXOYi"
      },
      "execution_count": null,
      "outputs": [],
      "id": "7-auqTXcXOYi"
    },
    {
      "cell_type": "code",
      "source": [
        "#crear\n",
        "ad = DecisionTreeClassifier(max_depth = 6)\n",
        "#entrenar\n",
        "ad.fit(X_train, y_train)\n",
        "#predicción\n",
        "Y_pred = ad.predict(X_test)"
      ],
      "metadata": {
        "id": "Z9lKku4PXOYj"
      },
      "execution_count": null,
      "outputs": [],
      "id": "Z9lKku4PXOYj"
    },
    {
      "cell_type": "code",
      "source": [
        "with open(\"mi_arbol4.dot\", 'w') as archivo_dot:\n",
        "    tree.export_graphviz(ad, out_file = archivo_dot, filled=True, rounded=True, special_characters=False, impurity=False, feature_names=caracteristicas)"
      ],
      "metadata": {
        "id": "hSnOggNrXOYj"
      },
      "execution_count": null,
      "outputs": [],
      "id": "hSnOggNrXOYj"
    },
    {
      "cell_type": "code",
      "source": [
        "!dot -Tjpeg mi_arbol4.dot -o arbol_decision4.png"
      ],
      "metadata": {
        "id": "SOJdtCgrXOYk"
      },
      "execution_count": null,
      "outputs": [],
      "id": "SOJdtCgrXOYk"
    },
    {
      "cell_type": "code",
      "source": [
        "MSE = mean_squared_error(y_test, Y_pred)\n",
        "print(\"MSE: \" + str(MSE))\n",
        "RMSE = MSE**0.5\n",
        "print(\"RMSE: \" + str(RMSE))\n",
        "MAE = mean_absolute_error(y_test, Y_pred)\n",
        "print(\"MAE: \" + str(MAE))\n",
        "MAPE = np.mean(np.abs((y_test - Y_pred) / y_test)) * 100\n",
        "print(\"MAPE: \" + str(MAPE))"
      ],
      "metadata": {
        "colab": {
          "base_uri": "https://localhost:8080/"
        },
        "outputId": "f4cc1587-6ad2-43bf-808d-7e439a6ee36d",
        "id": "s9BXf7aoXOYl"
      },
      "execution_count": null,
      "outputs": [
        {
          "output_type": "stream",
          "name": "stdout",
          "text": [
            "MSE: 33.54545454545455\n",
            "RMSE: 5.791843794980537\n",
            "MAE: 4.313131313131313\n",
            "MAPE: nan\n"
          ]
        }
      ],
      "id": "s9BXf7aoXOYl"
    },
    {
      "cell_type": "markdown",
      "source": [
        "## Random forest"
      ],
      "metadata": {
        "id": "-cSjVPkaXOYm"
      },
      "id": "-cSjVPkaXOYm"
    },
    {
      "cell_type": "code",
      "source": [
        "#separar datos\n",
        "X2_train, X2_test, y2_train, y2_test = train_test_split(X, Y, test_size=0.25)"
      ],
      "metadata": {
        "id": "lklbmmp9XOYn"
      },
      "execution_count": null,
      "outputs": [],
      "id": "lklbmmp9XOYn"
    },
    {
      "cell_type": "code",
      "source": [
        "#crear\n",
        "rf = RandomForestClassifier()\n",
        "#ajustar\n",
        "rf.fit(X, Y)\n",
        "# verificando la precisión\n",
        "print(\"precisión del modelo: {0: .2f}\".format((Y == rf.predict(X)).mean()))\n",
        "Y2_pred = ad.predict(X2_test)"
      ],
      "metadata": {
        "colab": {
          "base_uri": "https://localhost:8080/"
        },
        "outputId": "64f6042b-7a5e-4281-d87f-b621b3cfa305",
        "id": "7MUs7566XOYn"
      },
      "execution_count": null,
      "outputs": [
        {
          "output_type": "stream",
          "name": "stdout",
          "text": [
            "precisión del modelo:  0.09\n"
          ]
        }
      ],
      "id": "7MUs7566XOYn"
    },
    {
      "cell_type": "code",
      "source": [
        "MSE = mean_squared_error(y2_test, Y2_pred)\n",
        "print(\"MSE: \" + str(MSE))\n",
        "RMSE = MSE**0.5\n",
        "print(\"RMSE: \" + str(RMSE))\n",
        "MAE = mean_absolute_error(y2_test, Y2_pred)\n",
        "print(\"MAE: \" + str(MAE))\n",
        "MAPE = np.mean(np.abs((y2_test - Y2_pred) / y2_test)) * 100\n",
        "print(\"MAPE: \" + str(MAPE))"
      ],
      "metadata": {
        "colab": {
          "base_uri": "https://localhost:8080/"
        },
        "outputId": "102636d0-f7cc-49c3-fb32-adb46915e3a5",
        "id": "B12IW9awXOYo"
      },
      "execution_count": null,
      "outputs": [
        {
          "output_type": "stream",
          "name": "stdout",
          "text": [
            "MSE: 24.666666666666668\n",
            "RMSE: 4.96655480858378\n",
            "MAE: 3.3535353535353534\n",
            "MAPE: nan\n"
          ]
        }
      ],
      "id": "B12IW9awXOYo"
    }
  ],
  "metadata": {
    "colab": {
      "provenance": [],
      "collapsed_sections": [
        "a1fKoPW_dh9J"
      ],
      "toc_visible": true,
      "include_colab_link": true
    },
    "kernelspec": {
      "display_name": "Python 3.10.0 64-bit",
      "language": "python",
      "name": "python3"
    },
    "language_info": {
      "codemirror_mode": {
        "name": "ipython",
        "version": 3
      },
      "file_extension": ".py",
      "mimetype": "text/x-python",
      "name": "python",
      "nbconvert_exporter": "python",
      "pygments_lexer": "ipython3",
      "version": "3.10.0"
    },
    "vscode": {
      "interpreter": {
        "hash": "8704b0d3bf1e59ff30983fe7b46a92d9159d5d53c6b67ae95141966edbf41a08"
      }
    }
  },
  "nbformat": 4,
  "nbformat_minor": 5
}